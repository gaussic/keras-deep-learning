{
 "cells": [
  {
   "cell_type": "markdown",
   "metadata": {},
   "source": [
    "### 实现一维卷积神经网络\n",
    "\n",
    "#### 准备 IMDB 数据"
   ]
  },
  {
   "cell_type": "code",
   "execution_count": 1,
   "metadata": {},
   "outputs": [
    {
     "name": "stderr",
     "output_type": "stream",
     "text": [
      "C:\\Users\\zhikang.du\\AppData\\Local\\conda\\conda\\envs\\python36\\lib\\site-packages\\h5py\\__init__.py:36: FutureWarning: Conversion of the second argument of issubdtype from `float` to `np.floating` is deprecated. In future, it will be treated as `np.float64 == np.dtype(float).type`.\n",
      "  from ._conv import register_converters as _register_converters\n",
      "Using TensorFlow backend.\n"
     ]
    },
    {
     "name": "stdout",
     "output_type": "stream",
     "text": [
      "Loading data...\n",
      "25000 train sequences\n",
      "25000 test sequences\n",
      "Pad sequences (samples x time)\n",
      "x_train shape: (25000, 500)\n",
      "x_test shape: (25000, 500)\n"
     ]
    }
   ],
   "source": [
    "from keras.datasets import imdb\n",
    "from keras.preprocessing import sequence\n",
    "\n",
    "max_features = 10000\n",
    "max_len = 500\n",
    "\n",
    "print('Loading data...')\n",
    "(x_train, y_train), (x_test, y_test) = imdb.load_data(num_words=max_features)\n",
    "print(len(x_train), 'train sequences')\n",
    "print(len(x_test), 'test sequences')\n",
    "\n",
    "print('Pad sequences (samples x time)')\n",
    "x_train = sequence.pad_sequences(x_train, maxlen=max_len)\n",
    "x_test = sequence.pad_sequences(x_test, maxlen=max_len)\n",
    "print('x_train shape:', x_train.shape)\n",
    "print('x_test shape:', x_test.shape)"
   ]
  },
  {
   "cell_type": "markdown",
   "metadata": {},
   "source": [
    "#### 在 IMDB 数据上训练并评估一个简单的一维卷积神经网络"
   ]
  },
  {
   "cell_type": "code",
   "execution_count": 2,
   "metadata": {},
   "outputs": [
    {
     "name": "stdout",
     "output_type": "stream",
     "text": [
      "_________________________________________________________________\n",
      "Layer (type)                 Output Shape              Param #   \n",
      "=================================================================\n",
      "embedding_1 (Embedding)      (None, 500, 128)          1280000   \n",
      "_________________________________________________________________\n",
      "conv1d_1 (Conv1D)            (None, 494, 32)           28704     \n",
      "_________________________________________________________________\n",
      "max_pooling1d_1 (MaxPooling1 (None, 98, 32)            0         \n",
      "_________________________________________________________________\n",
      "conv1d_2 (Conv1D)            (None, 92, 32)            7200      \n",
      "_________________________________________________________________\n",
      "global_max_pooling1d_1 (Glob (None, 32)                0         \n",
      "_________________________________________________________________\n",
      "dense_1 (Dense)              (None, 1)                 33        \n",
      "=================================================================\n",
      "Total params: 1,315,937\n",
      "Trainable params: 1,315,937\n",
      "Non-trainable params: 0\n",
      "_________________________________________________________________\n"
     ]
    }
   ],
   "source": [
    "from keras.models import Sequential\n",
    "from keras import layers\n",
    "from keras.optimizers import RMSprop\n",
    "\n",
    "model = Sequential()\n",
    "model.add(layers.Embedding(max_features, 128, input_length=max_len))\n",
    "model.add(layers.Conv1D(32, 7, activation='relu'))\n",
    "model.add(layers.MaxPooling1D(5))\n",
    "model.add(layers.Conv1D(32, 7, activation='relu'))\n",
    "model.add(layers.GlobalMaxPooling1D())\n",
    "model.add(layers.Dense(1))\n",
    "\n",
    "model.summary()"
   ]
  },
  {
   "cell_type": "code",
   "execution_count": 3,
   "metadata": {},
   "outputs": [
    {
     "name": "stdout",
     "output_type": "stream",
     "text": [
      "Train on 20000 samples, validate on 5000 samples\n",
      "Epoch 1/10\n",
      "20000/20000 [==============================] - 115s 6ms/step - loss: 0.8336 - acc: 0.5095 - val_loss: 0.6874 - val_acc: 0.5644\n",
      "Epoch 2/10\n",
      "20000/20000 [==============================] - 100s 5ms/step - loss: 0.6699 - acc: 0.6388 - val_loss: 0.6641 - val_acc: 0.6592\n",
      "Epoch 3/10\n",
      "20000/20000 [==============================] - 103s 5ms/step - loss: 0.6235 - acc: 0.7537 - val_loss: 0.6080 - val_acc: 0.7432\n",
      "Epoch 4/10\n",
      "20000/20000 [==============================] - 107s 5ms/step - loss: 0.5256 - acc: 0.8077 - val_loss: 0.4844 - val_acc: 0.8058\n",
      "Epoch 5/10\n",
      "20000/20000 [==============================] - 108s 5ms/step - loss: 0.4096 - acc: 0.8483 - val_loss: 0.4343 - val_acc: 0.8312\n",
      "Epoch 6/10\n",
      "20000/20000 [==============================] - 111s 6ms/step - loss: 0.3461 - acc: 0.8677 - val_loss: 0.4170 - val_acc: 0.8392\n",
      "Epoch 7/10\n",
      "20000/20000 [==============================] - 113s 6ms/step - loss: 0.3100 - acc: 0.8707 - val_loss: 0.4400 - val_acc: 0.8226\n",
      "Epoch 8/10\n",
      "20000/20000 [==============================] - 115s 6ms/step - loss: 0.2800 - acc: 0.8637 - val_loss: 0.4163 - val_acc: 0.8210\n",
      "Epoch 9/10\n",
      "20000/20000 [==============================] - 115s 6ms/step - loss: 0.2512 - acc: 0.8491 - val_loss: 0.4520 - val_acc: 0.7966\n",
      "Epoch 10/10\n",
      "20000/20000 [==============================] - 109s 5ms/step - loss: 0.2299 - acc: 0.8254 - val_loss: 0.4660 - val_acc: 0.7762\n"
     ]
    }
   ],
   "source": [
    "model.compile(optimizer=RMSprop(lr=1e-4), \n",
    "              loss='binary_crossentropy', \n",
    "              metrics=['acc'])\n",
    "\n",
    "history = model.fit(x_train, y_train, \n",
    "                    epochs=10, \n",
    "                    batch_size=128, \n",
    "                    validation_split=0.2)"
   ]
  },
  {
   "cell_type": "markdown",
   "metadata": {},
   "source": [
    "#### 绘制结果"
   ]
  },
  {
   "cell_type": "code",
   "execution_count": 4,
   "metadata": {},
   "outputs": [],
   "source": [
    "import matplotlib.pyplot as plt\n",
    "%matplotlib inline"
   ]
  },
  {
   "cell_type": "code",
   "execution_count": 5,
   "metadata": {},
   "outputs": [
    {
     "data": {
      "image/png": "[encoded data removed]",
      "text/plain": [
       "<Figure size 432x288 with 1 Axes>"
      ]
     },
     "metadata": {
      "needs_background": "light"
     },
     "output_type": "display_data"
    },
    {
     "data": {
      "image/png": "[encoded data removed]",
      "text/plain": [
       "<Figure size 432x288 with 1 Axes>"
      ]
     },
     "metadata": {
      "needs_background": "light"
     },
     "output_type": "display_data"
    }
   ],
   "source": [
    "acc = history.history['acc']\n",
    "val_acc = history.history['val_acc']\n",
    "loss = history.history['loss']\n",
    "val_loss = history.history['val_loss']\n",
    "\n",
    "epochs = range(1, len(acc) + 1)\n",
    "\n",
    "plt.plot(epochs, acc, 'bo', label='Training acc')\n",
    "plt.plot(epochs, val_acc, 'b', label=\"Validation acc\")\n",
    "plt.title('Training and validation accuracy')\n",
    "plt.legend()\n",
    "\n",
    "plt.figure()\n",
    "\n",
    "plt.plot(epochs, loss, 'bo', label='Training loss')\n",
    "plt.plot(epochs, val_loss, 'b', label='Validation loss')\n",
    "plt.title('Training and validation loss')\n",
    "plt.legend()\n",
    "\n",
    "plt.show()"
   ]
  },
  {
   "cell_type": "markdown",
   "metadata": {},
   "source": [
    "### 结合 CNN 和 RNN 来处理长序列\n",
    "\n",
    "#### 在耶拿数据上训练并评估一个简单的一维卷积神经网络"
   ]
  },
  {
   "cell_type": "code",
   "execution_count": 16,
   "metadata": {},
   "outputs": [],
   "source": [
    "%reload_ext autoreload\n",
    "%autoreload 2\n",
    "\n",
    "import jena_climate as jc"
   ]
  },
  {
   "cell_type": "code",
   "execution_count": 18,
   "metadata": {},
   "outputs": [],
   "source": [
    "# 载入数据\n",
    "float_data = jc.load_data('data/jena_climate/jena_climate_2009_2016.csv')\n",
    "train_gen, val_gen, test_gen = jc.data_gen(float_data)\n",
    "\n",
    "lookback = 1440\n",
    "batch_size = 128\n",
    "\n",
    "val_steps = (300000 - 200001 - lookback) // batch_size\n",
    "test_steps = (len(float_data) - 300001 - lookback) // batch_size"
   ]
  },
  {
   "cell_type": "code",
   "execution_count": 19,
   "metadata": {},
   "outputs": [
    {
     "name": "stdout",
     "output_type": "stream",
     "text": [
      "_________________________________________________________________\n",
      "Layer (type)                 Output Shape              Param #   \n",
      "=================================================================\n",
      "conv1d_3 (Conv1D)            (None, None, 32)          2272      \n",
      "_________________________________________________________________\n",
      "max_pooling1d_2 (MaxPooling1 (None, None, 32)          0         \n",
      "_________________________________________________________________\n",
      "conv1d_4 (Conv1D)            (None, None, 32)          5152      \n",
      "_________________________________________________________________\n",
      "max_pooling1d_3 (MaxPooling1 (None, None, 32)          0         \n",
      "_________________________________________________________________\n",
      "conv1d_5 (Conv1D)            (None, None, 32)          5152      \n",
      "_________________________________________________________________\n",
      "global_max_pooling1d_2 (Glob (None, 32)                0         \n",
      "_________________________________________________________________\n",
      "dense_2 (Dense)              (None, 1)                 33        \n",
      "=================================================================\n",
      "Total params: 12,609\n",
      "Trainable params: 12,609\n",
      "Non-trainable params: 0\n",
      "_________________________________________________________________\n"
     ]
    }
   ],
   "source": [
    "from keras.models import Sequential\n",
    "from keras import layers\n",
    "from keras.optimizers import RMSprop\n",
    "\n",
    "model = Sequential()\n",
    "model.add(layers.Conv1D(32, 5, activation='relu', \n",
    "                        input_shape=(None, float_data.shape[-1])))\n",
    "model.add(layers.MaxPooling1D(3))\n",
    "model.add(layers.Conv1D(32, 5, activation='relu'))\n",
    "model.add(layers.MaxPooling1D(3))\n",
    "model.add(layers.Conv1D(32, 5, activation='relu'))\n",
    "model.add(layers.GlobalMaxPooling1D())\n",
    "model.add(layers.Dense(1))\n",
    "\n",
    "model.compile(optimizer=RMSprop(), loss='mae')\n",
    "model.summary()"
   ]
  },
  {
   "cell_type": "code",
   "execution_count": 20,
   "metadata": {},
   "outputs": [
    {
     "name": "stdout",
     "output_type": "stream",
     "text": [
      "Epoch 1/20\n",
      "500/500 [==============================] - 71s 142ms/step - loss: 0.4175 - val_loss: 0.4843\n",
      "Epoch 2/20\n",
      "500/500 [==============================] - 69s 138ms/step - loss: 0.3645 - val_loss: 0.4894\n",
      "Epoch 3/20\n",
      "500/500 [==============================] - 67s 134ms/step - loss: 0.3432 - val_loss: 0.4605\n",
      "Epoch 4/20\n",
      "500/500 [==============================] - 69s 138ms/step - loss: 0.3258 - val_loss: 0.4785\n",
      "Epoch 5/20\n",
      "500/500 [==============================] - 68s 136ms/step - loss: 0.3156 - val_loss: 0.4812\n",
      "Epoch 6/20\n",
      "500/500 [==============================] - 73s 146ms/step - loss: 0.3044 - val_loss: 0.4802\n",
      "Epoch 7/20\n",
      "500/500 [==============================] - 66s 132ms/step - loss: 0.2958 - val_loss: 0.4940\n",
      "Epoch 8/20\n",
      "500/500 [==============================] - 62s 123ms/step - loss: 0.2889 - val_loss: 0.4933\n",
      "Epoch 9/20\n",
      "500/500 [==============================] - 59s 118ms/step - loss: 0.2835 - val_loss: 0.4704\n",
      "Epoch 10/20\n",
      "500/500 [==============================] - 59s 119ms/step - loss: 0.2795 - val_loss: 0.4736\n",
      "Epoch 11/20\n",
      "500/500 [==============================] - 59s 119ms/step - loss: 0.2753 - val_loss: 0.4900\n",
      "Epoch 12/20\n",
      "500/500 [==============================] - 60s 120ms/step - loss: 0.2712 - val_loss: 0.4963\n",
      "Epoch 13/20\n",
      "500/500 [==============================] - 59s 119ms/step - loss: 0.2655 - val_loss: 0.4836\n",
      "Epoch 14/20\n",
      "500/500 [==============================] - 60s 119ms/step - loss: 0.2621 - val_loss: 0.4947\n",
      "Epoch 15/20\n",
      "500/500 [==============================] - 63s 125ms/step - loss: 0.2599 - val_loss: 0.4862\n",
      "Epoch 16/20\n",
      "500/500 [==============================] - 60s 119ms/step - loss: 0.2578 - val_loss: 0.4857\n",
      "Epoch 17/20\n",
      "500/500 [==============================] - 60s 119ms/step - loss: 0.2550 - val_loss: 0.5063\n",
      "Epoch 18/20\n",
      "500/500 [==============================] - 60s 119ms/step - loss: 0.2517 - val_loss: 0.4919\n",
      "Epoch 19/20\n",
      "500/500 [==============================] - 60s 119ms/step - loss: 0.2508 - val_loss: 0.5280\n",
      "Epoch 20/20\n",
      "500/500 [==============================] - 60s 120ms/step - loss: 0.2479 - val_loss: 0.5057\n"
     ]
    }
   ],
   "source": [
    "history = model.fit_generator(train_gen,\n",
    "                              steps_per_epoch=500,\n",
    "                              epochs=20,\n",
    "                              validation_data=val_gen,\n",
    "                              validation_steps=val_steps)"
   ]
  },
  {
   "cell_type": "markdown",
   "metadata": {},
   "source": [
    "#### 绘制结果"
   ]
  },
  {
   "cell_type": "code",
   "execution_count": null,
   "metadata": {},
   "outputs": [],
   "source": [
    "loss = history.history['loss']\n",
    "val_loss = history.history['val_loss']\n",
    "\n",
    "epochs = range(1, len(acc) + 1)\n",
    "\n",
    "plt.figure()\n",
    "\n",
    "plt.plot(epochs, loss, 'bo', label='Training loss')\n",
    "plt.plot(epochs, val_loss, 'b', label='Validation loss')\n",
    "plt.title('Training and validation loss')\n",
    "plt.legend()\n",
    "\n",
    "plt.show()"
   ]
  },
  {
   "cell_type": "markdown",
   "metadata": {},
   "source": [
    "#### 为耶拿数据集准备更高分辨率的数据生成器"
   ]
  },
  {
   "cell_type": "code",
   "execution_count": 21,
   "metadata": {},
   "outputs": [],
   "source": [
    "step = 3\n",
    "lookback= 720\n",
    "delay = 144\n",
    "\n",
    "train_gen = jc.generator(float_data,\n",
    "                         lookback=lookback,\n",
    "                         delay=delay,\n",
    "                         min_index=0,\n",
    "                         max_index=200000,\n",
    "                         shuffle=True,\n",
    "                         step=step)\n",
    "val_gen = jc.generator(float_data,\n",
    "                       lookback=lookback,\n",
    "                       delay=delay,\n",
    "                       min_index=200001,\n",
    "                       max_index=300000,\n",
    "                       step=step)\n",
    "test_gen = jc.generator(float_data,\n",
    "                        lookback=lookback,\n",
    "                        delay=delay,\n",
    "                        min_index=300001,\n",
    "                        max_index=None,\n",
    "                        step=step)\n",
    "val_steps = (300000 - 200001 - lookback) // 128\n",
    "test_steps = (len(float_data) - 300001 - lookback) // 128"
   ]
  },
  {
   "cell_type": "markdown",
   "metadata": {},
   "source": [
    "#### 结合一维卷积基和 GRU 层的模型"
   ]
  },
  {
   "cell_type": "code",
   "execution_count": 22,
   "metadata": {},
   "outputs": [
    {
     "name": "stdout",
     "output_type": "stream",
     "text": [
      "_________________________________________________________________\n",
      "Layer (type)                 Output Shape              Param #   \n",
      "=================================================================\n",
      "conv1d_6 (Conv1D)            (None, None, 32)          2272      \n",
      "_________________________________________________________________\n",
      "max_pooling1d_4 (MaxPooling1 (None, None, 32)          0         \n",
      "_________________________________________________________________\n",
      "conv1d_7 (Conv1D)            (None, None, 32)          5152      \n",
      "_________________________________________________________________\n",
      "gru_1 (GRU)                  (None, 32)                6240      \n",
      "_________________________________________________________________\n",
      "dense_3 (Dense)              (None, 1)                 33        \n",
      "=================================================================\n",
      "Total params: 13,697\n",
      "Trainable params: 13,697\n",
      "Non-trainable params: 0\n",
      "_________________________________________________________________\n"
     ]
    }
   ],
   "source": [
    "from keras.models import Sequential\n",
    "from keras import layers\n",
    "from keras.optimizers import RMSprop\n",
    "\n",
    "model = Sequential()\n",
    "model.add(layers.Conv1D(32, 5, activation='relu',\n",
    "                        input_shape=(None, float_data.shape[-1])))\n",
    "model.add(layers.MaxPooling1D(3))\n",
    "model.add(layers.Conv1D(32, 5, activation='relu'))\n",
    "model.add(layers.GRU(32, dropout=0.1, recurrent_dropout=0.5))\n",
    "model.add(layers.Dense(1))\n",
    "\n",
    "model.compile(optimizer=RMSprop(), loss='mae')\n",
    "model.summary()"
   ]
  },
  {
   "cell_type": "code",
   "execution_count": null,
   "metadata": {},
   "outputs": [
    {
     "name": "stdout",
     "output_type": "stream",
     "text": [
      "Epoch 1/20\n",
      "500/500 [==============================] - 97s 193ms/step - loss: 0.3386 - val_loss: 0.2996\n",
      "Epoch 2/20\n",
      "500/500 [==============================] - 96s 192ms/step - loss: 0.3057 - val_loss: 0.2841\n",
      "Epoch 3/20\n",
      "500/500 [==============================] - 99s 199ms/step - loss: 0.2937 - val_loss: 0.2736\n",
      "Epoch 4/20\n",
      "500/500 [==============================] - 98s 196ms/step - loss: 0.2863 - val_loss: 0.2981\n",
      "Epoch 5/20\n",
      "336/500 [===================>..........] - ETA: 30s - loss: 0.2789"
     ]
    }
   ],
   "source": [
    "history = model.fit_generator(train_gen,\n",
    "                              steps_per_epoch=500,\n",
    "                              epochs=20,\n",
    "                              validation_data=val_gen,\n",
    "                              validation_steps=val_steps)"
   ]
  },
  {
   "cell_type": "code",
   "execution_count": null,
   "metadata": {},
   "outputs": [],
   "source": []
  }
 ],
 "metadata": {
  "kernelspec": {
   "display_name": "Python 3",
   "language": "python",
   "name": "python3"
  },
  "language_info": {
   "codemirror_mode": {
    "name": "ipython",
    "version": 3
   },
   "file_extension": ".py",
   "mimetype": "text/x-python",
   "name": "python",
   "nbconvert_exporter": "python",
   "pygments_lexer": "ipython3",
   "version": "3.6.5"
  }
 },
 "nbformat": 4,
 "nbformat_minor": 2
}
