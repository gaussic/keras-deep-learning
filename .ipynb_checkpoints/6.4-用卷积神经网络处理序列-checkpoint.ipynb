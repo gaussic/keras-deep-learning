{
 "cells": [
  {
   "cell_type": "markdown",
   "metadata": {},
   "source": [
    "### 实现一维卷积神经网络\n",
    "\n",
    "#### 准备 IMDB 数据"
   ]
  },
  {
   "cell_type": "code",
   "execution_count": 1,
   "metadata": {},
   "outputs": [
    {
     "name": "stderr",
     "output_type": "stream",
     "text": [
      "Using TensorFlow backend.\n"
     ]
    },
    {
     "name": "stdout",
     "output_type": "stream",
     "text": [
      "Loading data...\n",
      "25000 train sequences\n",
      "25000 test sequences\n",
      "Pad sequences (samples x time)\n",
      "x_train shape: (25000, 500)\n",
      "x_test shape: (25000, 500)\n"
     ]
    }
   ],
   "source": [
    "from keras.datasets import imdb\n",
    "from keras.preprocessing import sequence\n",
    "\n",
    "max_features = 10000\n",
    "max_len = 500\n",
    "\n",
    "print('Loading data...')\n",
    "(x_train, y_train), (x_test, y_test) = imdb.load_data(num_words=max_features)\n",
    "print(len(x_train), 'train sequences')\n",
    "print(len(x_test), 'test sequences')\n",
    "\n",
    "print('Pad sequences (samples x time)')\n",
    "x_train = sequence.pad_sequences(x_train, maxlen=max_len)\n",
    "x_test = sequence.pad_sequences(x_test, maxlen=max_len)\n",
    "print('x_train shape:', x_train.shape)\n",
    "print('x_test shape:', x_test.shape)"
   ]
  },
  {
   "cell_type": "markdown",
   "metadata": {},
   "source": [
    "#### 在 IMDB 数据上训练并评估一个简单的一维卷积神经网络"
   ]
  },
  {
   "cell_type": "code",
   "execution_count": 2,
   "metadata": {},
   "outputs": [
    {
     "name": "stdout",
     "output_type": "stream",
     "text": [
      "_________________________________________________________________\n",
      "Layer (type)                 Output Shape              Param #   \n",
      "=================================================================\n",
      "embedding_1 (Embedding)      (None, 500, 128)          1280000   \n",
      "_________________________________________________________________\n",
      "conv1d_1 (Conv1D)            (None, 494, 32)           28704     \n",
      "_________________________________________________________________\n",
      "max_pooling1d_1 (MaxPooling1 (None, 98, 32)            0         \n",
      "_________________________________________________________________\n",
      "conv1d_2 (Conv1D)            (None, 92, 32)            7200      \n",
      "_________________________________________________________________\n",
      "global_max_pooling1d_1 (Glob (None, 32)                0         \n",
      "_________________________________________________________________\n",
      "dense_1 (Dense)              (None, 1)                 33        \n",
      "=================================================================\n",
      "Total params: 1,315,937\n",
      "Trainable params: 1,315,937\n",
      "Non-trainable params: 0\n",
      "_________________________________________________________________\n"
     ]
    }
   ],
   "source": [
    "from keras.models import Sequential\n",
    "from keras import layers\n",
    "from keras.optimizers import RMSprop\n",
    "\n",
    "model = Sequential()\n",
    "model.add(layers.Embedding(max_features, 128, input_length=max_len))\n",
    "model.add(layers.Conv1D(32, 7, activation='relu'))\n",
    "model.add(layers.MaxPooling1D(5))\n",
    "model.add(layers.Conv1D(32, 7, activation='relu'))\n",
    "model.add(layers.GlobalMaxPooling1D())\n",
    "model.add(layers.Dense(1))\n",
    "\n",
    "model.summary()"
   ]
  },
  {
   "cell_type": "code",
   "execution_count": 3,
   "metadata": {},
   "outputs": [
    {
     "name": "stdout",
     "output_type": "stream",
     "text": [
      "Train on 20000 samples, validate on 5000 samples\n",
      "Epoch 1/10\n",
      "20000/20000 [==============================] - 11s 528us/step - loss: 0.8337 - acc: 0.5091 - val_loss: 0.6874 - val_acc: 0.5648\n",
      "Epoch 2/10\n",
      "20000/20000 [==============================] - 3s 136us/step - loss: 0.6700 - acc: 0.6396 - val_loss: 0.6642 - val_acc: 0.6580: 0.6722 - acc:\n",
      "Epoch 3/10\n",
      "20000/20000 [==============================] - 3s 137us/step - loss: 0.6237 - acc: 0.7523 - val_loss: 0.6082 - val_acc: 0.7432\n",
      "Epoch 4/10\n",
      "20000/20000 [==============================] - 3s 139us/step - loss: 0.5261 - acc: 0.8083 - val_loss: 0.4831 - val_acc: 0.8058\n",
      "Epoch 5/10\n",
      "20000/20000 [==============================] - 3s 139us/step - loss: 0.4133 - acc: 0.8477 - val_loss: 0.4275 - val_acc: 0.8326\n",
      "Epoch 6/10\n",
      "20000/20000 [==============================] - 3s 140us/step - loss: 0.3493 - acc: 0.8659 - val_loss: 0.4161 - val_acc: 0.8344\n",
      "Epoch 7/10\n",
      "20000/20000 [==============================] - 3s 140us/step - loss: 0.3127 - acc: 0.8595 - val_loss: 0.4489 - val_acc: 0.8166\n",
      "Epoch 8/10\n",
      "20000/20000 [==============================] - 3s 138us/step - loss: 0.2788 - acc: 0.8452 - val_loss: 0.4247 - val_acc: 0.8022\n",
      "Epoch 9/10\n",
      "20000/20000 [==============================] - 3s 140us/step - loss: 0.2550 - acc: 0.8313 - val_loss: 0.4676 - val_acc: 0.7776\n",
      "Epoch 10/10\n",
      "20000/20000 [==============================] - 3s 139us/step - loss: 0.2319 - acc: 0.8061 - val_loss: 0.5190 - val_acc: 0.7456\n"
     ]
    }
   ],
   "source": [
    "model.compile(optimizer=RMSprop(lr=1e-4), \n",
    "              loss='binary_crossentropy', \n",
    "              metrics=['acc'])\n",
    "\n",
    "history = model.fit(x_train, y_train, \n",
    "                    epochs=10, \n",
    "                    batch_size=128, \n",
    "                    validation_split=0.2)"
   ]
  },
  {
   "cell_type": "markdown",
   "metadata": {},
   "source": [
    "#### 绘制结果"
   ]
  },
  {
   "cell_type": "code",
   "execution_count": 4,
   "metadata": {},
   "outputs": [],
   "source": [
    "import matplotlib.pyplot as plt\n",
    "%matplotlib inline"
   ]
  },
  {
   "cell_type": "code",
   "execution_count": 5,
   "metadata": {},
   "outputs": [
    {
     "data": {
      "image/png": "[encoded data removed]",
      "text/plain": [
       "<Figure size 432x288 with 1 Axes>"
      ]
     },
     "metadata": {
      "needs_background": "light"
     },
     "output_type": "display_data"
    },
    {
     "data": {
      "image/png": "[encoded data removed]",
      "text/plain": [
       "<Figure size 432x288 with 1 Axes>"
      ]
     },
     "metadata": {
      "needs_background": "light"
     },
     "output_type": "display_data"
    }
   ],
   "source": [
    "acc = history.history['acc']\n",
    "val_acc = history.history['val_acc']\n",
    "loss = history.history['loss']\n",
    "val_loss = history.history['val_loss']\n",
    "\n",
    "epochs = range(1, len(acc) + 1)\n",
    "\n",
    "plt.plot(epochs, acc, 'bo', label='Training acc')\n",
    "plt.plot(epochs, val_acc, 'b', label=\"Validation acc\")\n",
    "plt.title('Training and validation accuracy')\n",
    "plt.legend()\n",
    "\n",
    "plt.figure()\n",
    "\n",
    "plt.plot(epochs, loss, 'bo', label='Training loss')\n",
    "plt.plot(epochs, val_loss, 'b', label='Validation loss')\n",
    "plt.title('Training and validation loss')\n",
    "plt.legend()\n",
    "\n",
    "plt.show()"
   ]
  },
  {
   "cell_type": "markdown",
   "metadata": {},
   "source": [
    "### 结合 CNN 和 RNN 来处理长序列\n",
    "\n",
    "#### 在耶拿数据上训练并评估一个简单的一维卷积神经网络"
   ]
  },
  {
   "cell_type": "code",
   "execution_count": 6,
   "metadata": {},
   "outputs": [],
   "source": [
    "%reload_ext autoreload\n",
    "%autoreload 2\n",
    "\n",
    "import jena_climate as jc"
   ]
  },
  {
   "cell_type": "code",
   "execution_count": 7,
   "metadata": {},
   "outputs": [],
   "source": [
    "# 载入数据\n",
    "float_data = jc.load_data('data/jena_climate/jena_climate_2009_2016.csv')\n",
    "train_gen, val_gen, test_gen = jc.data_gen(float_data)\n",
    "\n",
    "lookback = 1440\n",
    "batch_size = 128\n",
    "\n",
    "val_steps = (300000 - 200001 - lookback) // batch_size\n",
    "test_steps = (len(float_data) - 300001 - lookback) // batch_size"
   ]
  },
  {
   "cell_type": "code",
   "execution_count": 8,
   "metadata": {},
   "outputs": [
    {
     "name": "stdout",
     "output_type": "stream",
     "text": [
      "_________________________________________________________________\n",
      "Layer (type)                 Output Shape              Param #   \n",
      "=================================================================\n",
      "conv1d_3 (Conv1D)            (None, None, 32)          2272      \n",
      "_________________________________________________________________\n",
      "max_pooling1d_2 (MaxPooling1 (None, None, 32)          0         \n",
      "_________________________________________________________________\n",
      "conv1d_4 (Conv1D)            (None, None, 32)          5152      \n",
      "_________________________________________________________________\n",
      "max_pooling1d_3 (MaxPooling1 (None, None, 32)          0         \n",
      "_________________________________________________________________\n",
      "conv1d_5 (Conv1D)            (None, None, 32)          5152      \n",
      "_________________________________________________________________\n",
      "global_max_pooling1d_2 (Glob (None, 32)                0         \n",
      "_________________________________________________________________\n",
      "dense_2 (Dense)              (None, 1)                 33        \n",
      "=================================================================\n",
      "Total params: 12,609\n",
      "Trainable params: 12,609\n",
      "Non-trainable params: 0\n",
      "_________________________________________________________________\n"
     ]
    }
   ],
   "source": [
    "from keras.models import Sequential\n",
    "from keras import layers\n",
    "from keras.optimizers import RMSprop\n",
    "\n",
    "model = Sequential()\n",
    "model.add(layers.Conv1D(32, 5, activation='relu', \n",
    "                        input_shape=(None, float_data.shape[-1])))\n",
    "model.add(layers.MaxPooling1D(3))\n",
    "model.add(layers.Conv1D(32, 5, activation='relu'))\n",
    "model.add(layers.MaxPooling1D(3))\n",
    "model.add(layers.Conv1D(32, 5, activation='relu'))\n",
    "model.add(layers.GlobalMaxPooling1D())\n",
    "model.add(layers.Dense(1))\n",
    "\n",
    "model.compile(optimizer=RMSprop(), loss='mae')\n",
    "model.summary()"
   ]
  },
  {
   "cell_type": "code",
   "execution_count": 9,
   "metadata": {},
   "outputs": [
    {
     "name": "stdout",
     "output_type": "stream",
     "text": [
      "Epoch 1/20\n",
      "500/500 [==============================] - 13s 27ms/step - loss: 0.4194 - val_loss: 0.4361\n",
      "Epoch 2/20\n",
      "500/500 [==============================] - 12s 25ms/step - loss: 0.3658 - val_loss: 0.4404\n",
      "Epoch 3/20\n",
      "500/500 [==============================] - 12s 25ms/step - loss: 0.3406 - val_loss: 0.4479\n",
      "Epoch 4/20\n",
      "500/500 [==============================] - 12s 25ms/step - loss: 0.3246 - val_loss: 0.4683\n",
      "Epoch 5/20\n",
      "500/500 [==============================] - 12s 25ms/step - loss: 0.3129 - val_loss: 0.5061\n",
      "Epoch 6/20\n",
      "500/500 [==============================] - 12s 25ms/step - loss: 0.2990 - val_loss: 0.4886\n",
      "Epoch 7/20\n",
      "500/500 [==============================] - 12s 25ms/step - loss: 0.2909 - val_loss: 0.4996\n",
      "Epoch 8/20\n",
      "500/500 [==============================] - 12s 25ms/step - loss: 0.2854 - val_loss: 0.5177\n",
      "Epoch 9/20\n",
      "500/500 [==============================] - 12s 25ms/step - loss: 0.2790 - val_loss: 0.4867\n",
      "Epoch 10/20\n",
      "500/500 [==============================] - 12s 24ms/step - loss: 0.2759 - val_loss: 0.4990\n",
      "Epoch 11/20\n",
      "500/500 [==============================] - 13s 25ms/step - loss: 0.2704 - val_loss: 0.4914\n",
      "Epoch 12/20\n",
      "500/500 [==============================] - 12s 25ms/step - loss: 0.2658 - val_loss: 0.5050\n",
      "Epoch 13/20\n",
      "500/500 [==============================] - 12s 25ms/step - loss: 0.2604 - val_loss: 0.4984\n",
      "Epoch 14/20\n",
      "500/500 [==============================] - 12s 25ms/step - loss: 0.2605 - val_loss: 0.4936\n",
      "Epoch 15/20\n",
      "500/500 [==============================] - 12s 24ms/step - loss: 0.2567 - val_loss: 0.4882\n",
      "Epoch 16/20\n",
      "500/500 [==============================] - 12s 24ms/step - loss: 0.2541 - val_loss: 0.5017\n",
      "Epoch 17/20\n",
      "500/500 [==============================] - 12s 24ms/step - loss: 0.2504 - val_loss: 0.4915\n",
      "Epoch 18/20\n",
      "500/500 [==============================] - 12s 24ms/step - loss: 0.2485 - val_loss: 0.4942\n",
      "Epoch 19/20\n",
      "500/500 [==============================] - 12s 24ms/step - loss: 0.2478 - val_loss: 0.4883\n",
      "Epoch 20/20\n",
      "500/500 [==============================] - 12s 25ms/step - loss: 0.2454 - val_loss: 0.4922\n"
     ]
    }
   ],
   "source": [
    "history = model.fit_generator(train_gen,\n",
    "                              steps_per_epoch=500,\n",
    "                              epochs=20,\n",
    "                              validation_data=val_gen,\n",
    "                              validation_steps=val_steps)"
   ]
  },
  {
   "cell_type": "markdown",
   "metadata": {},
   "source": [
    "#### 绘制结果"
   ]
  },
  {
   "cell_type": "code",
   "execution_count": 11,
   "metadata": {},
   "outputs": [
    {
     "data": {
      "image/png": "[encoded data removed]",
      "text/plain": [
       "<Figure size 432x288 with 1 Axes>"
      ]
     },
     "metadata": {
      "needs_background": "light"
     },
     "output_type": "display_data"
    }
   ],
   "source": [
    "loss = history.history['loss']\n",
    "val_loss = history.history['val_loss']\n",
    "\n",
    "epochs = range(1, len(loss) + 1)\n",
    "\n",
    "plt.figure()\n",
    "\n",
    "plt.plot(epochs, loss, 'bo', label='Training loss')\n",
    "plt.plot(epochs, val_loss, 'b', label='Validation loss')\n",
    "plt.title('Training and validation loss')\n",
    "plt.legend()\n",
    "\n",
    "plt.show()"
   ]
  },
  {
   "cell_type": "markdown",
   "metadata": {},
   "source": [
    "#### 为耶拿数据集准备更高分辨率的数据生成器"
   ]
  },
  {
   "cell_type": "code",
   "execution_count": 12,
   "metadata": {},
   "outputs": [],
   "source": [
    "step = 3\n",
    "lookback= 720\n",
    "delay = 144\n",
    "\n",
    "train_gen = jc.generator(float_data,\n",
    "                         lookback=lookback,\n",
    "                         delay=delay,\n",
    "                         min_index=0,\n",
    "                         max_index=200000,\n",
    "                         shuffle=True,\n",
    "                         step=step)\n",
    "val_gen = jc.generator(float_data,\n",
    "                       lookback=lookback,\n",
    "                       delay=delay,\n",
    "                       min_index=200001,\n",
    "                       max_index=300000,\n",
    "                       step=step)\n",
    "test_gen = jc.generator(float_data,\n",
    "                        lookback=lookback,\n",
    "                        delay=delay,\n",
    "                        min_index=300001,\n",
    "                        max_index=None,\n",
    "                        step=step)\n",
    "val_steps = (300000 - 200001 - lookback) // 128\n",
    "test_steps = (len(float_data) - 300001 - lookback) // 128"
   ]
  },
  {
   "cell_type": "markdown",
   "metadata": {},
   "source": [
    "#### 结合一维卷积基和 GRU 层的模型"
   ]
  },
  {
   "cell_type": "code",
   "execution_count": 13,
   "metadata": {},
   "outputs": [
    {
     "name": "stdout",
     "output_type": "stream",
     "text": [
      "_________________________________________________________________\n",
      "Layer (type)                 Output Shape              Param #   \n",
      "=================================================================\n",
      "conv1d_6 (Conv1D)            (None, None, 32)          2272      \n",
      "_________________________________________________________________\n",
      "max_pooling1d_4 (MaxPooling1 (None, None, 32)          0         \n",
      "_________________________________________________________________\n",
      "conv1d_7 (Conv1D)            (None, None, 32)          5152      \n",
      "_________________________________________________________________\n",
      "gru_1 (GRU)                  (None, 32)                6240      \n",
      "_________________________________________________________________\n",
      "dense_3 (Dense)              (None, 1)                 33        \n",
      "=================================================================\n",
      "Total params: 13,697\n",
      "Trainable params: 13,697\n",
      "Non-trainable params: 0\n",
      "_________________________________________________________________\n"
     ]
    }
   ],
   "source": [
    "from keras.models import Sequential\n",
    "from keras import layers\n",
    "from keras.optimizers import RMSprop\n",
    "\n",
    "model = Sequential()\n",
    "model.add(layers.Conv1D(32, 5, activation='relu',\n",
    "                        input_shape=(None, float_data.shape[-1])))\n",
    "model.add(layers.MaxPooling1D(3))\n",
    "model.add(layers.Conv1D(32, 5, activation='relu'))\n",
    "model.add(layers.GRU(32, dropout=0.1, recurrent_dropout=0.5))\n",
    "model.add(layers.Dense(1))\n",
    "\n",
    "model.compile(optimizer=RMSprop(), loss='mae')\n",
    "model.summary()"
   ]
  },
  {
   "cell_type": "code",
   "execution_count": 14,
   "metadata": {},
   "outputs": [
    {
     "name": "stdout",
     "output_type": "stream",
     "text": [
      "Epoch 1/20\n",
      "500/500 [==============================] - 79s 157ms/step - loss: 0.3415 - val_loss: 0.2818\n",
      "Epoch 2/20\n",
      "500/500 [==============================] - 78s 155ms/step - loss: 0.3083 - val_loss: 0.2758\n",
      "Epoch 3/20\n",
      "500/500 [==============================] - 77s 155ms/step - loss: 0.2953 - val_loss: 0.2838\n",
      "Epoch 4/20\n",
      "500/500 [==============================] - 77s 155ms/step - loss: 0.2871 - val_loss: 0.2833\n",
      "Epoch 5/20\n",
      "500/500 [==============================] - 77s 155ms/step - loss: 0.2801 - val_loss: 0.2823\n",
      "Epoch 6/20\n",
      "500/500 [==============================] - 78s 156ms/step - loss: 0.2732 - val_loss: 0.2758\n",
      "Epoch 7/20\n",
      "500/500 [==============================] - 77s 154ms/step - loss: 0.2679 - val_loss: 0.2764\n",
      "Epoch 8/20\n",
      "500/500 [==============================] - 78s 155ms/step - loss: 0.2629 - val_loss: 0.2726\n",
      "Epoch 9/20\n",
      "500/500 [==============================] - 77s 155ms/step - loss: 0.2588 - val_loss: 0.2745\n",
      "Epoch 10/20\n",
      "500/500 [==============================] - 77s 154ms/step - loss: 0.2537 - val_loss: 0.2769\n",
      "Epoch 11/20\n",
      "500/500 [==============================] - 78s 157ms/step - loss: 0.2485 - val_loss: 0.2864\n",
      "Epoch 12/20\n",
      "500/500 [==============================] - 77s 154ms/step - loss: 0.2441 - val_loss: 0.2867\n",
      "Epoch 13/20\n",
      "500/500 [==============================] - 77s 154ms/step - loss: 0.2415 - val_loss: 0.2866\n",
      "Epoch 14/20\n",
      "500/500 [==============================] - 77s 154ms/step - loss: 0.2394 - val_loss: 0.2904\n",
      "Epoch 15/20\n",
      "500/500 [==============================] - 78s 157ms/step - loss: 0.2371 - val_loss: 0.2878\n",
      "Epoch 16/20\n",
      "500/500 [==============================] - 78s 155ms/step - loss: 0.2335 - val_loss: 0.2972\n",
      "Epoch 17/20\n",
      "500/500 [==============================] - 78s 155ms/step - loss: 0.2296 - val_loss: 0.2928\n",
      "Epoch 18/20\n",
      "500/500 [==============================] - 77s 155ms/step - loss: 0.2276 - val_loss: 0.3013\n",
      "Epoch 19/20\n",
      "500/500 [==============================] - 78s 157ms/step - loss: 0.2254 - val_loss: 0.2951\n",
      "Epoch 20/20\n",
      "500/500 [==============================] - 77s 155ms/step - loss: 0.2239 - val_loss: 0.2972\n"
     ]
    }
   ],
   "source": [
    "history = model.fit_generator(train_gen,\n",
    "                              steps_per_epoch=500,\n",
    "                              epochs=20,\n",
    "                              validation_data=val_gen,\n",
    "                              validation_steps=val_steps)"
   ]
  },
  {
   "cell_type": "markdown",
   "metadata": {},
   "source": [
    "#### 绘制结果"
   ]
  },
  {
   "cell_type": "code",
   "execution_count": 15,
   "metadata": {},
   "outputs": [
    {
     "data": {
      "image/png": "[encoded data removed]",
      "text/plain": [
       "<Figure size 432x288 with 1 Axes>"
      ]
     },
     "metadata": {
      "needs_background": "light"
     },
     "output_type": "display_data"
    }
   ],
   "source": [
    "loss = history.history['loss']\n",
    "val_loss = history.history['val_loss']\n",
    "\n",
    "epochs = range(len(loss))\n",
    "\n",
    "plt.figure()\n",
    "\n",
    "plt.plot(epochs, loss, 'bo', label='Training loss')\n",
    "plt.plot(epochs, val_loss, 'b', label='Validation loss')\n",
    "plt.title('Training and validation loss')\n",
    "plt.legend()\n",
    "\n",
    "plt.show()"
   ]
  },
  {
   "cell_type": "code",
   "execution_count": null,
   "metadata": {},
   "outputs": [],
   "source": []
  }
 ],
 "metadata": {
  "kernelspec": {
   "display_name": "Python 3",
   "language": "python",
   "name": "python3"
  },
  "language_info": {
   "codemirror_mode": {
    "name": "ipython",
    "version": 3
   },
   "file_extension": ".py",
   "mimetype": "text/x-python",
   "name": "python",
   "nbconvert_exporter": "python",
   "pygments_lexer": "ipython3",
   "version": "3.6.6"
  }
 },
 "nbformat": 4,
 "nbformat_minor": 2
}
