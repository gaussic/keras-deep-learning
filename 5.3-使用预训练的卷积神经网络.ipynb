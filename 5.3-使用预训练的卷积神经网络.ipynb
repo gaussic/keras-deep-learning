{
 "cells": [
  {
   "cell_type": "markdown",
   "metadata": {},
   "source": [
    "### 载入 VGG16 模型"
   ]
  },
  {
   "cell_type": "code",
   "execution_count": 1,
   "metadata": {},
   "outputs": [
    {
     "name": "stderr",
     "output_type": "stream",
     "text": [
      "Using TensorFlow backend.\n"
     ]
    }
   ],
   "source": [
    "from keras.applications import VGG16\n",
    "\n",
    "conv_base = VGG16(weights='imagenet',\n",
    "                  include_top=False,\n",
    "                  input_shape=(150, 150, 3))"
   ]
  },
  {
   "cell_type": "code",
   "execution_count": 2,
   "metadata": {},
   "outputs": [
    {
     "name": "stdout",
     "output_type": "stream",
     "text": [
      "_________________________________________________________________\n",
      "Layer (type)                 Output Shape              Param #   \n",
      "=================================================================\n",
      "input_1 (InputLayer)         (None, 150, 150, 3)       0         \n",
      "_________________________________________________________________\n",
      "block1_conv1 (Conv2D)        (None, 150, 150, 64)      1792      \n",
      "_________________________________________________________________\n",
      "block1_conv2 (Conv2D)        (None, 150, 150, 64)      36928     \n",
      "_________________________________________________________________\n",
      "block1_pool (MaxPooling2D)   (None, 75, 75, 64)        0         \n",
      "_________________________________________________________________\n",
      "block2_conv1 (Conv2D)        (None, 75, 75, 128)       73856     \n",
      "_________________________________________________________________\n",
      "block2_conv2 (Conv2D)        (None, 75, 75, 128)       147584    \n",
      "_________________________________________________________________\n",
      "block2_pool (MaxPooling2D)   (None, 37, 37, 128)       0         \n",
      "_________________________________________________________________\n",
      "block3_conv1 (Conv2D)        (None, 37, 37, 256)       295168    \n",
      "_________________________________________________________________\n",
      "block3_conv2 (Conv2D)        (None, 37, 37, 256)       590080    \n",
      "_________________________________________________________________\n",
      "block3_conv3 (Conv2D)        (None, 37, 37, 256)       590080    \n",
      "_________________________________________________________________\n",
      "block3_pool (MaxPooling2D)   (None, 18, 18, 256)       0         \n",
      "_________________________________________________________________\n",
      "block4_conv1 (Conv2D)        (None, 18, 18, 512)       1180160   \n",
      "_________________________________________________________________\n",
      "block4_conv2 (Conv2D)        (None, 18, 18, 512)       2359808   \n",
      "_________________________________________________________________\n",
      "block4_conv3 (Conv2D)        (None, 18, 18, 512)       2359808   \n",
      "_________________________________________________________________\n",
      "block4_pool (MaxPooling2D)   (None, 9, 9, 512)         0         \n",
      "_________________________________________________________________\n",
      "block5_conv1 (Conv2D)        (None, 9, 9, 512)         2359808   \n",
      "_________________________________________________________________\n",
      "block5_conv2 (Conv2D)        (None, 9, 9, 512)         2359808   \n",
      "_________________________________________________________________\n",
      "block5_conv3 (Conv2D)        (None, 9, 9, 512)         2359808   \n",
      "_________________________________________________________________\n",
      "block5_pool (MaxPooling2D)   (None, 4, 4, 512)         0         \n",
      "=================================================================\n",
      "Total params: 14,714,688\n",
      "Trainable params: 14,714,688\n",
      "Non-trainable params: 0\n",
      "_________________________________________________________________\n"
     ]
    }
   ],
   "source": [
    "conv_base.summary()"
   ]
  },
  {
   "cell_type": "markdown",
   "metadata": {},
   "source": [
    "### VGG16 特征提取"
   ]
  },
  {
   "cell_type": "code",
   "execution_count": 3,
   "metadata": {},
   "outputs": [
    {
     "name": "stdout",
     "output_type": "stream",
     "text": [
      "Found 2000 images belonging to 2 classes.\n",
      "Found 1000 images belonging to 2 classes.\n",
      "Found 1000 images belonging to 2 classes.\n"
     ]
    }
   ],
   "source": [
    "import os\n",
    "import numpy as np\n",
    "from keras.preprocessing.image import ImageDataGenerator\n",
    "\n",
    "base_dir = \"data/cats_and_dogs_small\"\n",
    "train_dir = os.path.join(base_dir, 'train')\n",
    "validation_dir = os.path.join(base_dir, 'validation')\n",
    "test_dir = os.path.join(base_dir, 'test')\n",
    "\n",
    "datagen = ImageDataGenerator(rescale=1./255)\n",
    "batch_size = 20\n",
    "\n",
    "def extract_features(directory, sample_count):\n",
    "    features = np.zeros(shape=(sample_count, 4, 4, 512))\n",
    "    labels = np.zeros(shape=(sample_count))\n",
    "    generator = datagen.flow_from_directory(\n",
    "        directory,\n",
    "        target_size=(150, 150), \n",
    "        batch_size=batch_size,\n",
    "        class_mode='binary'\n",
    "    )\n",
    "    i = 0\n",
    "    for input_batch, labels_batch in generator:\n",
    "        features_batch = conv_base.predict(input_batch)\n",
    "        features[i * batch_size : (i + 1) * batch_size] = features_batch\n",
    "        labels[i * batch_size : (i + 1) * batch_size] = labels_batch\n",
    "        i += 1\n",
    "        if i * batch_size >= sample_count:\n",
    "            break\n",
    "    return features, labels\n",
    "\n",
    "train_features, train_labels = extract_features(train_dir, 2000)\n",
    "validation_features, validation_labels = extract_features(validation_dir, 1000)\n",
    "test_features, test_labels = extract_features(test_dir, 1000)"
   ]
  },
  {
   "cell_type": "code",
   "execution_count": 4,
   "metadata": {},
   "outputs": [],
   "source": [
    "train_features = np.reshape(train_features, (2000, 4 * 4 * 512))\n",
    "validation_features = np.reshape(validation_features, (1000, 4 * 4 * 512))\n",
    "test_features = np.reshape(test_features, (1000, 4 * 4 * 512))"
   ]
  },
  {
   "cell_type": "markdown",
   "metadata": {},
   "source": [
    "### 分类模型构建"
   ]
  },
  {
   "cell_type": "code",
   "execution_count": 5,
   "metadata": {},
   "outputs": [],
   "source": [
    "from keras import models\n",
    "from keras import layers\n",
    "from keras import optimizers\n",
    "\n",
    "model = models.Sequential()\n",
    "model.add(layers.Dense(256, activation='relu', input_dim=4 * 4 * 512))\n",
    "model.add(layers.Dropout(0.5))\n",
    "model.add(layers.Dense(1, activation='sigmoid'))\n",
    "\n",
    "model.compile(optimizer=optimizers.RMSprop(lr=2e-5),\n",
    "              loss='binary_crossentropy',\n",
    "              metrics=['acc'])"
   ]
  },
  {
   "cell_type": "markdown",
   "metadata": {},
   "source": [
    "### 训练与验证"
   ]
  },
  {
   "cell_type": "code",
   "execution_count": 6,
   "metadata": {},
   "outputs": [
    {
     "name": "stdout",
     "output_type": "stream",
     "text": [
      "Train on 2000 samples, validate on 1000 samples\n",
      "Epoch 1/30\n",
      "2000/2000 [==============================] - 1s 737us/step - loss: 0.5869 - acc: 0.6715 - val_loss: 0.4374 - val_acc: 0.8230\n",
      "Epoch 2/30\n",
      "2000/2000 [==============================] - 1s 407us/step - loss: 0.4234 - acc: 0.8105 - val_loss: 0.3550 - val_acc: 0.8590\n",
      "Epoch 3/30\n",
      "2000/2000 [==============================] - 1s 413us/step - loss: 0.3575 - acc: 0.8470 - val_loss: 0.3200 - val_acc: 0.8760\n",
      "Epoch 4/30\n",
      "2000/2000 [==============================] - 1s 525us/step - loss: 0.3155 - acc: 0.8655 - val_loss: 0.2992 - val_acc: 0.8840\n",
      "Epoch 5/30\n",
      "2000/2000 [==============================] - 1s 405us/step - loss: 0.2912 - acc: 0.8750 - val_loss: 0.2821 - val_acc: 0.8870\n",
      "Epoch 6/30\n",
      "2000/2000 [==============================] - 1s 401us/step - loss: 0.2726 - acc: 0.8905 - val_loss: 0.2711 - val_acc: 0.8910\n",
      "Epoch 7/30\n",
      "2000/2000 [==============================] - 1s 411us/step - loss: 0.2450 - acc: 0.9110 - val_loss: 0.2660 - val_acc: 0.8920\n",
      "Epoch 8/30\n",
      "2000/2000 [==============================] - 1s 400us/step - loss: 0.2315 - acc: 0.9135 - val_loss: 0.2539 - val_acc: 0.8990\n",
      "Epoch 9/30\n",
      "2000/2000 [==============================] - 1s 402us/step - loss: 0.2214 - acc: 0.9145 - val_loss: 0.2552 - val_acc: 0.8940\n",
      "Epoch 10/30\n",
      "2000/2000 [==============================] - 1s 396us/step - loss: 0.2039 - acc: 0.9220 - val_loss: 0.2531 - val_acc: 0.8890\n",
      "Epoch 11/30\n",
      "2000/2000 [==============================] - 1s 413us/step - loss: 0.1925 - acc: 0.9330 - val_loss: 0.2449 - val_acc: 0.8990\n",
      "Epoch 12/30\n",
      "2000/2000 [==============================] - 1s 394us/step - loss: 0.1886 - acc: 0.9365 - val_loss: 0.2401 - val_acc: 0.8970\n",
      "Epoch 13/30\n",
      "2000/2000 [==============================] - 1s 397us/step - loss: 0.1784 - acc: 0.9360 - val_loss: 0.2381 - val_acc: 0.8990\n",
      "Epoch 14/30\n",
      "2000/2000 [==============================] - 1s 402us/step - loss: 0.1652 - acc: 0.9440 - val_loss: 0.2341 - val_acc: 0.9070\n",
      "Epoch 15/30\n",
      "2000/2000 [==============================] - 1s 395us/step - loss: 0.1640 - acc: 0.9415 - val_loss: 0.2369 - val_acc: 0.9000\n",
      "Epoch 16/30\n",
      "2000/2000 [==============================] - 1s 399us/step - loss: 0.1530 - acc: 0.9460 - val_loss: 0.2353 - val_acc: 0.9030\n",
      "Epoch 17/30\n",
      "2000/2000 [==============================] - 1s 413us/step - loss: 0.1522 - acc: 0.9450 - val_loss: 0.2389 - val_acc: 0.9010\n",
      "Epoch 18/30\n",
      "2000/2000 [==============================] - 1s 400us/step - loss: 0.1405 - acc: 0.9480 - val_loss: 0.2323 - val_acc: 0.9020\n",
      "Epoch 19/30\n",
      "2000/2000 [==============================] - 1s 402us/step - loss: 0.1349 - acc: 0.9490 - val_loss: 0.2333 - val_acc: 0.9040\n",
      "Epoch 20/30\n",
      "2000/2000 [==============================] - 1s 398us/step - loss: 0.1342 - acc: 0.9570 - val_loss: 0.2323 - val_acc: 0.9050\n",
      "Epoch 21/30\n",
      "2000/2000 [==============================] - 1s 414us/step - loss: 0.1310 - acc: 0.9550 - val_loss: 0.2353 - val_acc: 0.9040\n",
      "Epoch 22/30\n",
      "2000/2000 [==============================] - 1s 401us/step - loss: 0.1223 - acc: 0.9595 - val_loss: 0.2338 - val_acc: 0.9000\n",
      "Epoch 23/30\n",
      "2000/2000 [==============================] - 1s 403us/step - loss: 0.1208 - acc: 0.9585 - val_loss: 0.2328 - val_acc: 0.9020\n",
      "Epoch 24/30\n",
      "2000/2000 [==============================] - 1s 404us/step - loss: 0.1136 - acc: 0.9645 - val_loss: 0.2358 - val_acc: 0.9030\n",
      "Epoch 25/30\n",
      "2000/2000 [==============================] - 1s 410us/step - loss: 0.1065 - acc: 0.9675 - val_loss: 0.2387 - val_acc: 0.9040\n",
      "Epoch 26/30\n",
      "2000/2000 [==============================] - 1s 402us/step - loss: 0.1035 - acc: 0.9675 - val_loss: 0.2344 - val_acc: 0.9010\n",
      "Epoch 27/30\n",
      "2000/2000 [==============================] - 1s 402us/step - loss: 0.1016 - acc: 0.9645 - val_loss: 0.2380 - val_acc: 0.9000\n",
      "Epoch 28/30\n",
      "2000/2000 [==============================] - 1s 405us/step - loss: 0.0934 - acc: 0.9720 - val_loss: 0.2353 - val_acc: 0.9000\n",
      "Epoch 29/30\n",
      "2000/2000 [==============================] - 1s 407us/step - loss: 0.0882 - acc: 0.9755 - val_loss: 0.2386 - val_acc: 0.9010\n",
      "Epoch 30/30\n",
      "2000/2000 [==============================] - 1s 398us/step - loss: 0.0903 - acc: 0.9735 - val_loss: 0.2350 - val_acc: 0.9000\n"
     ]
    }
   ],
   "source": [
    "history = model.fit(train_features, train_labels,\n",
    "                    epochs=30,\n",
    "                    batch_size=20,\n",
    "                    validation_data=(validation_features, validation_labels))"
   ]
  },
  {
   "cell_type": "markdown",
   "metadata": {},
   "source": [
    "### 结果可视化"
   ]
  },
  {
   "cell_type": "code",
   "execution_count": 7,
   "metadata": {},
   "outputs": [],
   "source": [
    "import matplotlib.pyplot as plt\n",
    "%matplotlib inline"
   ]
  },
  {
   "cell_type": "code",
   "execution_count": 8,
   "metadata": {},
   "outputs": [
    {
     "data": {
      "image/png": "[encoded data removed]",
      "text/plain": [
       "<Figure size 432x288 with 1 Axes>"
      ]
     },
     "metadata": {
      "needs_background": "light"
     },
     "output_type": "display_data"
    },
    {
     "data": {
      "image/png": "[encoded data removed]",
      "text/plain": [
       "<Figure size 432x288 with 1 Axes>"
      ]
     },
     "metadata": {
      "needs_background": "light"
     },
     "output_type": "display_data"
    }
   ],
   "source": [
    "acc = history.history['acc']\n",
    "val_acc = history.history['val_acc']\n",
    "loss = history.history['loss']\n",
    "val_loss = history.history['val_loss']\n",
    "\n",
    "epochs = range(1, len(acc) + 1)\n",
    "\n",
    "plt.plot(epochs, acc, 'bo', label='Training acc')\n",
    "plt.plot(epochs, val_acc, 'b', label='Validation acc')\n",
    "plt.title('Training and validation accuracy')\n",
    "plt.legend()\n",
    "\n",
    "plt.figure()\n",
    "\n",
    "plt.plot(epochs, loss, 'bo', label='Training loss')\n",
    "plt.plot(epochs, val_loss, 'b', label='Validation loss')\n",
    "plt.title('Training and validation loss')\n",
    "plt.legend()\n",
    "\n",
    "plt.show()"
   ]
  },
  {
   "cell_type": "markdown",
   "metadata": {},
   "source": [
    "### 数据增强"
   ]
  },
  {
   "cell_type": "code",
   "execution_count": 15,
   "metadata": {},
   "outputs": [
    {
     "name": "stdout",
     "output_type": "stream",
     "text": [
      "_________________________________________________________________\n",
      "Layer (type)                 Output Shape              Param #   \n",
      "=================================================================\n",
      "vgg16 (Model)                (None, 4, 4, 512)         14714688  \n",
      "_________________________________________________________________\n",
      "flatten_3 (Flatten)          (None, 8192)              0         \n",
      "_________________________________________________________________\n",
      "dense_7 (Dense)              (None, 256)               2097408   \n",
      "_________________________________________________________________\n",
      "dense_8 (Dense)              (None, 1)                 257       \n",
      "=================================================================\n",
      "Total params: 16,812,353\n",
      "Trainable params: 2,097,665\n",
      "Non-trainable params: 14,714,688\n",
      "_________________________________________________________________\n"
     ]
    }
   ],
   "source": [
    "model = models.Sequential()\n",
    "model.add(conv_base)\n",
    "model.add(layers.Flatten())\n",
    "model.add(layers.Dense(256, activation='relu'))\n",
    "model.add(layers.Dense(1, activation='sigmoid'))\n",
    "\n",
    "\n",
    "model.summary()"
   ]
  },
  {
   "cell_type": "code",
   "execution_count": 16,
   "metadata": {},
   "outputs": [
    {
     "name": "stdout",
     "output_type": "stream",
     "text": [
      "This is the number of trainable weights before freezing the conv base: 4\n"
     ]
    }
   ],
   "source": [
    "print('This is the number of trainable weights before freezing the conv base:',\n",
    "      len(model.trainable_weights))"
   ]
  },
  {
   "cell_type": "code",
   "execution_count": 17,
   "metadata": {},
   "outputs": [],
   "source": [
    "conv_base.trainable = False"
   ]
  },
  {
   "cell_type": "code",
   "execution_count": 18,
   "metadata": {},
   "outputs": [
    {
     "name": "stdout",
     "output_type": "stream",
     "text": [
      "This is the number of trainable weights after freezing the conv base: 4\n"
     ]
    }
   ],
   "source": [
    "print('This is the number of trainable weights after freezing the conv base:',\n",
    "      len(model.trainable_weights))"
   ]
  },
  {
   "cell_type": "markdown",
   "metadata": {},
   "source": [
    "### 训练与验证"
   ]
  },
  {
   "cell_type": "code",
   "execution_count": 19,
   "metadata": {},
   "outputs": [
    {
     "name": "stdout",
     "output_type": "stream",
     "text": [
      "Found 2000 images belonging to 2 classes.\n",
      "Found 1000 images belonging to 2 classes.\n"
     ]
    }
   ],
   "source": [
    "train_datagen = ImageDataGenerator(\n",
    "      rescale=1./255,\n",
    "      rotation_range=40,\n",
    "      width_shift_range=0.2,\n",
    "      height_shift_range=0.2,\n",
    "      shear_range=0.2,\n",
    "      zoom_range=0.2,\n",
    "      horizontal_flip=True,\n",
    "      fill_mode='nearest')\n",
    "\n",
    "test_datagen = ImageDataGenerator(rescale=1./255)\n",
    "\n",
    "train_generator = train_datagen.flow_from_directory(\n",
    "        train_dir,\n",
    "        target_size=(150, 150),\n",
    "        batch_size=20,\n",
    "        class_mode='binary')\n",
    "\n",
    "validation_generator = test_datagen.flow_from_directory(\n",
    "        validation_dir,\n",
    "        target_size=(150, 150),\n",
    "        batch_size=20,\n",
    "        class_mode='binary')\n",
    "\n",
    "model.compile(loss='binary_crossentropy',\n",
    "              optimizer=optimizers.RMSprop(lr=2e-5),\n",
    "              metrics=['acc'])"
   ]
  },
  {
   "cell_type": "code",
   "execution_count": 20,
   "metadata": {},
   "outputs": [
    {
     "name": "stdout",
     "output_type": "stream",
     "text": [
      "Epoch 1/30\n",
      " - 19s - loss: 0.6150 - acc: 0.6725 - val_loss: 0.4844 - val_acc: 0.8100\n",
      "Epoch 2/30\n",
      " - 18s - loss: 0.5033 - acc: 0.7775 - val_loss: 0.3905 - val_acc: 0.8470\n",
      "Epoch 3/30\n",
      " - 18s - loss: 0.4478 - acc: 0.8065 - val_loss: 0.3489 - val_acc: 0.8700\n",
      "Epoch 4/30\n",
      " - 18s - loss: 0.3961 - acc: 0.8250 - val_loss: 0.3178 - val_acc: 0.8750\n",
      "Epoch 5/30\n",
      " - 17s - loss: 0.3949 - acc: 0.8295 - val_loss: 0.3065 - val_acc: 0.8770\n",
      "Epoch 6/30\n",
      " - 17s - loss: 0.3809 - acc: 0.8375 - val_loss: 0.2900 - val_acc: 0.8830\n",
      "Epoch 7/30\n",
      " - 17s - loss: 0.3598 - acc: 0.8425 - val_loss: 0.2891 - val_acc: 0.8800\n",
      "Epoch 8/30\n",
      " - 17s - loss: 0.3639 - acc: 0.8395 - val_loss: 0.2810 - val_acc: 0.8860\n",
      "Epoch 9/30\n",
      " - 17s - loss: 0.3548 - acc: 0.8480 - val_loss: 0.2699 - val_acc: 0.8880\n",
      "Epoch 10/30\n",
      " - 17s - loss: 0.3476 - acc: 0.8495 - val_loss: 0.2640 - val_acc: 0.8950\n",
      "Epoch 11/30\n",
      " - 17s - loss: 0.3426 - acc: 0.8485 - val_loss: 0.2636 - val_acc: 0.8960\n",
      "Epoch 12/30\n",
      " - 18s - loss: 0.3355 - acc: 0.8560 - val_loss: 0.2576 - val_acc: 0.8990\n",
      "Epoch 13/30\n",
      " - 18s - loss: 0.3238 - acc: 0.8625 - val_loss: 0.2557 - val_acc: 0.9030\n",
      "Epoch 14/30\n",
      " - 17s - loss: 0.3244 - acc: 0.8560 - val_loss: 0.2512 - val_acc: 0.9010\n",
      "Epoch 15/30\n",
      " - 18s - loss: 0.3154 - acc: 0.8605 - val_loss: 0.2572 - val_acc: 0.8910\n",
      "Epoch 16/30\n",
      " - 18s - loss: 0.3122 - acc: 0.8630 - val_loss: 0.2482 - val_acc: 0.8980\n",
      "Epoch 17/30\n",
      " - 18s - loss: 0.3176 - acc: 0.8550 - val_loss: 0.2465 - val_acc: 0.8980\n",
      "Epoch 18/30\n",
      " - 18s - loss: 0.3093 - acc: 0.8600 - val_loss: 0.2555 - val_acc: 0.8930\n",
      "Epoch 19/30\n",
      " - 18s - loss: 0.3103 - acc: 0.8645 - val_loss: 0.2436 - val_acc: 0.8990\n",
      "Epoch 20/30\n",
      " - 18s - loss: 0.3028 - acc: 0.8740 - val_loss: 0.2438 - val_acc: 0.9010\n",
      "Epoch 21/30\n",
      " - 18s - loss: 0.3010 - acc: 0.8665 - val_loss: 0.2417 - val_acc: 0.9000\n",
      "Epoch 22/30\n",
      " - 18s - loss: 0.3108 - acc: 0.8690 - val_loss: 0.2417 - val_acc: 0.9010\n",
      "Epoch 23/30\n",
      " - 17s - loss: 0.3036 - acc: 0.8670 - val_loss: 0.2394 - val_acc: 0.9030\n",
      "Epoch 24/30\n",
      " - 17s - loss: 0.2904 - acc: 0.8820 - val_loss: 0.2401 - val_acc: 0.9030\n",
      "Epoch 25/30\n",
      " - 17s - loss: 0.2904 - acc: 0.8785 - val_loss: 0.2377 - val_acc: 0.9010\n",
      "Epoch 26/30\n",
      " - 18s - loss: 0.2854 - acc: 0.8735 - val_loss: 0.2486 - val_acc: 0.9030\n",
      "Epoch 27/30\n",
      " - 18s - loss: 0.2885 - acc: 0.8810 - val_loss: 0.2408 - val_acc: 0.8970\n",
      "Epoch 28/30\n",
      " - 18s - loss: 0.2796 - acc: 0.8750 - val_loss: 0.2407 - val_acc: 0.8990\n",
      "Epoch 29/30\n",
      " - 18s - loss: 0.2871 - acc: 0.8815 - val_loss: 0.2408 - val_acc: 0.8970\n",
      "Epoch 30/30\n",
      " - 18s - loss: 0.2800 - acc: 0.8795 - val_loss: 0.2421 - val_acc: 0.9010\n"
     ]
    }
   ],
   "source": [
    "history = model.fit_generator(\n",
    "    train_generator,\n",
    "    steps_per_epoch=100,\n",
    "    epochs=30,\n",
    "    validation_data=validation_generator,\n",
    "    validation_steps=50,\n",
    "    verbose=2)"
   ]
  },
  {
   "cell_type": "code",
   "execution_count": 21,
   "metadata": {},
   "outputs": [],
   "source": [
    "model.save('cats_and_dogs_small_3.h5')"
   ]
  },
  {
   "cell_type": "code",
   "execution_count": 22,
   "metadata": {},
   "outputs": [
    {
     "data": {
      "image/png": "[encoded data removed]",
      "text/plain": [
       "<Figure size 432x288 with 1 Axes>"
      ]
     },
     "metadata": {
      "needs_background": "light"
     },
     "output_type": "display_data"
    },
    {
     "data": {
      "image/png": "[encoded data removed]",
      "text/plain": [
       "<Figure size 432x288 with 1 Axes>"
      ]
     },
     "metadata": {
      "needs_background": "light"
     },
     "output_type": "display_data"
    }
   ],
   "source": [
    "acc = history.history['acc']\n",
    "val_acc = history.history['val_acc']\n",
    "loss = history.history['loss']\n",
    "val_loss = history.history['val_loss']\n",
    "\n",
    "epochs = range(1, len(acc) + 1)\n",
    "\n",
    "plt.plot(epochs, acc, 'bo', label='Training acc')\n",
    "plt.plot(epochs, val_acc, 'b', label='Validation acc')\n",
    "plt.title('Training and validation accuracy')\n",
    "plt.legend()\n",
    "\n",
    "plt.figure()\n",
    "\n",
    "plt.plot(epochs, loss, 'bo', label='Training loss')\n",
    "plt.plot(epochs, val_loss, 'b', label='Validation loss')\n",
    "plt.title('Training and validation loss')\n",
    "plt.legend()\n",
    "\n",
    "plt.show()"
   ]
  },
  {
   "cell_type": "markdown",
   "metadata": {},
   "source": [
    "### 微调"
   ]
  },
  {
   "cell_type": "code",
   "execution_count": 23,
   "metadata": {},
   "outputs": [],
   "source": [
    "conv_base.trainable = True\n",
    "\n",
    "set_trainable = False\n",
    "for layer in conv_base.layers:\n",
    "    if layer.name == 'block5_conv1':\n",
    "        set_trainable = True\n",
    "    if set_trainable:\n",
    "        layer.trainable = True\n",
    "    else:\n",
    "        layer.trainable = False"
   ]
  },
  {
   "cell_type": "code",
   "execution_count": 24,
   "metadata": {
    "scrolled": false
   },
   "outputs": [
    {
     "name": "stdout",
     "output_type": "stream",
     "text": [
      "Epoch 1/100\n",
      "100/100 [==============================] - 19s 187ms/step - loss: 0.2891 - acc: 0.8740 - val_loss: 0.2193 - val_acc: 0.9020\n",
      "Epoch 2/100\n",
      "100/100 [==============================] - 18s 176ms/step - loss: 0.2636 - acc: 0.8885 - val_loss: 0.2138 - val_acc: 0.9110\n",
      "Epoch 3/100\n",
      "100/100 [==============================] - 18s 181ms/step - loss: 0.2288 - acc: 0.8975 - val_loss: 0.1937 - val_acc: 0.9180\n",
      "Epoch 4/100\n",
      "100/100 [==============================] - 18s 180ms/step - loss: 0.2238 - acc: 0.9015 - val_loss: 0.2329 - val_acc: 0.9120\n",
      "Epoch 5/100\n",
      "100/100 [==============================] - 18s 179ms/step - loss: 0.2173 - acc: 0.9130 - val_loss: 0.2122 - val_acc: 0.9130\n",
      "Epoch 6/100\n",
      "100/100 [==============================] - 18s 180ms/step - loss: 0.2059 - acc: 0.9165 - val_loss: 0.2139 - val_acc: 0.9230\n",
      "Epoch 7/100\n",
      "100/100 [==============================] - 18s 175ms/step - loss: 0.1824 - acc: 0.9255 - val_loss: 0.1721 - val_acc: 0.9340\n",
      "Epoch 8/100\n",
      "100/100 [==============================] - 18s 180ms/step - loss: 0.1895 - acc: 0.9180 - val_loss: 0.2028 - val_acc: 0.9200\n",
      "Epoch 9/100\n",
      "100/100 [==============================] - 18s 179ms/step - loss: 0.1568 - acc: 0.9360 - val_loss: 0.1783 - val_acc: 0.9360\n",
      "Epoch 10/100\n",
      "100/100 [==============================] - 18s 179ms/step - loss: 0.1502 - acc: 0.9330 - val_loss: 0.1883 - val_acc: 0.9290\n",
      "Epoch 11/100\n",
      "100/100 [==============================] - 18s 182ms/step - loss: 0.1656 - acc: 0.9230 - val_loss: 0.1820 - val_acc: 0.9230\n",
      "Epoch 12/100\n",
      "100/100 [==============================] - 18s 182ms/step - loss: 0.1515 - acc: 0.9400 - val_loss: 0.1812 - val_acc: 0.9260\n",
      "Epoch 13/100\n",
      "100/100 [==============================] - 18s 179ms/step - loss: 0.1372 - acc: 0.9485 - val_loss: 0.1799 - val_acc: 0.9360\n",
      "Epoch 14/100\n",
      "100/100 [==============================] - 18s 184ms/step - loss: 0.1304 - acc: 0.9430 - val_loss: 0.1556 - val_acc: 0.9310\n",
      "Epoch 15/100\n",
      "100/100 [==============================] - 19s 188ms/step - loss: 0.1219 - acc: 0.9550 - val_loss: 0.2293 - val_acc: 0.9240\n",
      "Epoch 16/100\n",
      "100/100 [==============================] - 18s 184ms/step - loss: 0.1344 - acc: 0.9490 - val_loss: 0.1910 - val_acc: 0.9240\n",
      "Epoch 17/100\n",
      "100/100 [==============================] - 19s 188ms/step - loss: 0.1249 - acc: 0.9470 - val_loss: 0.1738 - val_acc: 0.9370\n",
      "Epoch 18/100\n",
      "100/100 [==============================] - 19s 188ms/step - loss: 0.1138 - acc: 0.9555 - val_loss: 0.2955 - val_acc: 0.9120\n",
      "Epoch 19/100\n",
      "100/100 [==============================] - 19s 186ms/step - loss: 0.0853 - acc: 0.9670 - val_loss: 0.1909 - val_acc: 0.9280\n",
      "Epoch 20/100\n",
      "100/100 [==============================] - 19s 186ms/step - loss: 0.1078 - acc: 0.9525 - val_loss: 0.2201 - val_acc: 0.9330\n",
      "Epoch 21/100\n",
      "100/100 [==============================] - 18s 177ms/step - loss: 0.0831 - acc: 0.9690 - val_loss: 0.2557 - val_acc: 0.9210\n",
      "Epoch 22/100\n",
      "100/100 [==============================] - 18s 177ms/step - loss: 0.1006 - acc: 0.9595 - val_loss: 0.1900 - val_acc: 0.9280\n",
      "Epoch 23/100\n",
      "100/100 [==============================] - 18s 177ms/step - loss: 0.0860 - acc: 0.9665 - val_loss: 0.1456 - val_acc: 0.9410\n",
      "Epoch 24/100\n",
      "100/100 [==============================] - 18s 177ms/step - loss: 0.0835 - acc: 0.9695 - val_loss: 0.2331 - val_acc: 0.9280\n",
      "Epoch 25/100\n",
      "100/100 [==============================] - 18s 182ms/step - loss: 0.0788 - acc: 0.9705 - val_loss: 0.2366 - val_acc: 0.9230\n",
      "Epoch 26/100\n",
      "100/100 [==============================] - 19s 186ms/step - loss: 0.0653 - acc: 0.9760 - val_loss: 0.1926 - val_acc: 0.9360\n",
      "Epoch 27/100\n",
      "100/100 [==============================] - 19s 186ms/step - loss: 0.0864 - acc: 0.9650 - val_loss: 0.2101 - val_acc: 0.9280\n",
      "Epoch 28/100\n",
      "100/100 [==============================] - 18s 184ms/step - loss: 0.0662 - acc: 0.9770 - val_loss: 0.2324 - val_acc: 0.9220\n",
      "Epoch 29/100\n",
      "100/100 [==============================] - 18s 184ms/step - loss: 0.0610 - acc: 0.9790 - val_loss: 0.2189 - val_acc: 0.9320\n",
      "Epoch 30/100\n",
      "100/100 [==============================] - 18s 182ms/step - loss: 0.0656 - acc: 0.9750 - val_loss: 0.1846 - val_acc: 0.9330\n",
      "Epoch 31/100\n",
      "100/100 [==============================] - 19s 188ms/step - loss: 0.0645 - acc: 0.9770 - val_loss: 0.2692 - val_acc: 0.9220\n",
      "Epoch 32/100\n",
      "100/100 [==============================] - 18s 183ms/step - loss: 0.0654 - acc: 0.9775 - val_loss: 0.1865 - val_acc: 0.9430\n",
      "Epoch 33/100\n",
      "100/100 [==============================] - 18s 181ms/step - loss: 0.0608 - acc: 0.9805 - val_loss: 0.2459 - val_acc: 0.9210\n",
      "Epoch 34/100\n",
      "100/100 [==============================] - 18s 181ms/step - loss: 0.0613 - acc: 0.9770 - val_loss: 0.2297 - val_acc: 0.9300\n",
      "Epoch 35/100\n",
      "100/100 [==============================] - 18s 181ms/step - loss: 0.0567 - acc: 0.9825 - val_loss: 0.2130 - val_acc: 0.9350\n",
      "Epoch 36/100\n",
      "100/100 [==============================] - 18s 183ms/step - loss: 0.0540 - acc: 0.9795 - val_loss: 0.2299 - val_acc: 0.9290\n",
      "Epoch 37/100\n",
      "100/100 [==============================] - 19s 187ms/step - loss: 0.0598 - acc: 0.9795 - val_loss: 0.1762 - val_acc: 0.9460\n",
      "Epoch 38/100\n",
      "100/100 [==============================] - 18s 181ms/step - loss: 0.0496 - acc: 0.9805 - val_loss: 0.2956 - val_acc: 0.9170\n",
      "Epoch 39/100\n",
      "100/100 [==============================] - 18s 178ms/step - loss: 0.0500 - acc: 0.9830 - val_loss: 0.2310 - val_acc: 0.9340\n",
      "Epoch 40/100\n",
      "100/100 [==============================] - 18s 178ms/step - loss: 0.0506 - acc: 0.9810 - val_loss: 0.1692 - val_acc: 0.9370\n",
      "Epoch 41/100\n",
      "100/100 [==============================] - 18s 179ms/step - loss: 0.0397 - acc: 0.9860 - val_loss: 0.3432 - val_acc: 0.9130\n",
      "Epoch 42/100\n",
      "100/100 [==============================] - 18s 182ms/step - loss: 0.0388 - acc: 0.9850 - val_loss: 0.3572 - val_acc: 0.9110\n",
      "Epoch 43/100\n",
      "100/100 [==============================] - 18s 179ms/step - loss: 0.0443 - acc: 0.9845 - val_loss: 0.2145 - val_acc: 0.9400\n",
      "Epoch 44/100\n",
      "100/100 [==============================] - 18s 177ms/step - loss: 0.0481 - acc: 0.9830 - val_loss: 0.2223 - val_acc: 0.9360\n",
      "Epoch 45/100\n",
      "100/100 [==============================] - 18s 179ms/step - loss: 0.0400 - acc: 0.9840 - val_loss: 0.2619 - val_acc: 0.9240\n",
      "Epoch 46/100\n",
      "100/100 [==============================] - 18s 177ms/step - loss: 0.0465 - acc: 0.9815 - val_loss: 0.2408 - val_acc: 0.9270\n",
      "Epoch 47/100\n",
      "100/100 [==============================] - 18s 179ms/step - loss: 0.0424 - acc: 0.9855 - val_loss: 0.3007 - val_acc: 0.9270\n",
      "Epoch 48/100\n",
      "100/100 [==============================] - 18s 181ms/step - loss: 0.0411 - acc: 0.9850 - val_loss: 0.1827 - val_acc: 0.9420\n",
      "Epoch 49/100\n",
      "100/100 [==============================] - 18s 178ms/step - loss: 0.0415 - acc: 0.9850 - val_loss: 0.2897 - val_acc: 0.9250\n",
      "Epoch 50/100\n",
      "100/100 [==============================] - 18s 178ms/step - loss: 0.0639 - acc: 0.9795 - val_loss: 0.2873 - val_acc: 0.9070\n",
      "Epoch 51/100\n",
      "100/100 [==============================] - 18s 177ms/step - loss: 0.0419 - acc: 0.9830 - val_loss: 0.1747 - val_acc: 0.9460\n",
      "Epoch 52/100\n",
      "100/100 [==============================] - 18s 178ms/step - loss: 0.0430 - acc: 0.9835 - val_loss: 0.3340 - val_acc: 0.9150\n",
      "Epoch 53/100\n",
      "100/100 [==============================] - 18s 181ms/step - loss: 0.0472 - acc: 0.9835 - val_loss: 0.2537 - val_acc: 0.9230\n",
      "Epoch 54/100\n",
      "100/100 [==============================] - 18s 178ms/step - loss: 0.0369 - acc: 0.9870 - val_loss: 0.2139 - val_acc: 0.9430\n",
      "Epoch 55/100\n",
      "100/100 [==============================] - 18s 177ms/step - loss: 0.0382 - acc: 0.9865 - val_loss: 0.2223 - val_acc: 0.9400\n",
      "Epoch 56/100\n",
      "100/100 [==============================] - 18s 177ms/step - loss: 0.0371 - acc: 0.9855 - val_loss: 0.2486 - val_acc: 0.9340\n",
      "Epoch 57/100\n",
      "100/100 [==============================] - 18s 178ms/step - loss: 0.0310 - acc: 0.9880 - val_loss: 0.2237 - val_acc: 0.9380\n",
      "Epoch 58/100\n",
      "100/100 [==============================] - 18s 179ms/step - loss: 0.0341 - acc: 0.9900 - val_loss: 0.3153 - val_acc: 0.9190\n",
      "Epoch 59/100\n",
      "100/100 [==============================] - 19s 190ms/step - loss: 0.0309 - acc: 0.9890 - val_loss: 0.2107 - val_acc: 0.9420\n",
      "Epoch 60/100\n",
      "100/100 [==============================] - 18s 179ms/step - loss: 0.0367 - acc: 0.9865 - val_loss: 0.2330 - val_acc: 0.9310\n"
     ]
    },
    {
     "name": "stdout",
     "output_type": "stream",
     "text": [
      "Epoch 61/100\n",
      "100/100 [==============================] - 18s 178ms/step - loss: 0.0312 - acc: 0.9895 - val_loss: 0.1905 - val_acc: 0.9390\n",
      "Epoch 62/100\n",
      "100/100 [==============================] - 18s 179ms/step - loss: 0.0389 - acc: 0.9870 - val_loss: 0.2426 - val_acc: 0.9300\n",
      "Epoch 63/100\n",
      "100/100 [==============================] - 18s 178ms/step - loss: 0.0241 - acc: 0.9910 - val_loss: 0.3322 - val_acc: 0.9220\n",
      "Epoch 64/100\n",
      "100/100 [==============================] - 18s 179ms/step - loss: 0.0369 - acc: 0.9895 - val_loss: 0.2170 - val_acc: 0.9370\n",
      "Epoch 65/100\n",
      "100/100 [==============================] - 18s 181ms/step - loss: 0.0253 - acc: 0.9905 - val_loss: 0.2998 - val_acc: 0.9250\n",
      "Epoch 66/100\n",
      "100/100 [==============================] - 18s 178ms/step - loss: 0.0283 - acc: 0.9900 - val_loss: 0.2954 - val_acc: 0.9270\n",
      "Epoch 67/100\n",
      "100/100 [==============================] - 18s 179ms/step - loss: 0.0330 - acc: 0.9895 - val_loss: 0.2292 - val_acc: 0.9380\n",
      "Epoch 68/100\n",
      "100/100 [==============================] - 18s 178ms/step - loss: 0.0268 - acc: 0.9910 - val_loss: 0.2564 - val_acc: 0.9400\n",
      "Epoch 69/100\n",
      "100/100 [==============================] - 18s 178ms/step - loss: 0.0253 - acc: 0.9915 - val_loss: 0.3080 - val_acc: 0.9220\n",
      "Epoch 70/100\n",
      "100/100 [==============================] - 18s 182ms/step - loss: 0.0352 - acc: 0.9880 - val_loss: 0.2895 - val_acc: 0.9290\n",
      "Epoch 71/100\n",
      "100/100 [==============================] - 18s 179ms/step - loss: 0.0296 - acc: 0.9905 - val_loss: 0.2497 - val_acc: 0.9340\n",
      "Epoch 72/100\n",
      "100/100 [==============================] - 18s 178ms/step - loss: 0.0253 - acc: 0.9885 - val_loss: 0.2350 - val_acc: 0.9420\n",
      "Epoch 73/100\n",
      "100/100 [==============================] - 18s 179ms/step - loss: 0.0229 - acc: 0.9920 - val_loss: 0.2246 - val_acc: 0.9470\n",
      "Epoch 74/100\n",
      "100/100 [==============================] - 18s 178ms/step - loss: 0.0274 - acc: 0.9905 - val_loss: 0.2734 - val_acc: 0.9340\n",
      "Epoch 75/100\n",
      "100/100 [==============================] - 18s 180ms/step - loss: 0.0258 - acc: 0.9890 - val_loss: 0.2771 - val_acc: 0.9220\n",
      "Epoch 76/100\n",
      "100/100 [==============================] - 18s 180ms/step - loss: 0.0256 - acc: 0.9905 - val_loss: 0.1863 - val_acc: 0.9520\n",
      "Epoch 77/100\n",
      "100/100 [==============================] - 18s 180ms/step - loss: 0.0324 - acc: 0.9915 - val_loss: 0.2470 - val_acc: 0.9350\n",
      "Epoch 78/100\n",
      "100/100 [==============================] - 18s 180ms/step - loss: 0.0182 - acc: 0.9935 - val_loss: 0.2099 - val_acc: 0.9400\n",
      "Epoch 79/100\n",
      "100/100 [==============================] - 18s 179ms/step - loss: 0.0246 - acc: 0.9890 - val_loss: 0.3003 - val_acc: 0.9360\n",
      "Epoch 80/100\n",
      "100/100 [==============================] - 18s 179ms/step - loss: 0.0316 - acc: 0.9920 - val_loss: 0.3420 - val_acc: 0.9140\n",
      "Epoch 81/100\n",
      "100/100 [==============================] - 18s 181ms/step - loss: 0.0200 - acc: 0.9955 - val_loss: 0.2186 - val_acc: 0.9460\n",
      "Epoch 82/100\n",
      "100/100 [==============================] - 18s 180ms/step - loss: 0.0230 - acc: 0.9900 - val_loss: 0.2429 - val_acc: 0.9400\n",
      "Epoch 83/100\n",
      "100/100 [==============================] - 18s 179ms/step - loss: 0.0181 - acc: 0.9935 - val_loss: 0.3494 - val_acc: 0.9200\n",
      "Epoch 84/100\n",
      "100/100 [==============================] - 18s 179ms/step - loss: 0.0239 - acc: 0.9915 - val_loss: 0.3738 - val_acc: 0.9270\n",
      "Epoch 85/100\n",
      "100/100 [==============================] - 18s 177ms/step - loss: 0.0209 - acc: 0.9930 - val_loss: 0.3459 - val_acc: 0.9190\n",
      "Epoch 86/100\n",
      "100/100 [==============================] - 18s 177ms/step - loss: 0.0237 - acc: 0.9920 - val_loss: 0.2202 - val_acc: 0.9480\n",
      "Epoch 87/100\n",
      "100/100 [==============================] - 18s 180ms/step - loss: 0.0282 - acc: 0.9900 - val_loss: 0.2735 - val_acc: 0.9360\n",
      "Epoch 88/100\n",
      "100/100 [==============================] - 18s 177ms/step - loss: 0.0172 - acc: 0.9935 - val_loss: 0.2329 - val_acc: 0.9480\n",
      "Epoch 89/100\n",
      "100/100 [==============================] - 18s 178ms/step - loss: 0.0154 - acc: 0.9935 - val_loss: 0.4042 - val_acc: 0.9240\n",
      "Epoch 90/100\n",
      "100/100 [==============================] - 18s 176ms/step - loss: 0.0245 - acc: 0.9910 - val_loss: 0.2249 - val_acc: 0.9440\n",
      "Epoch 91/100\n",
      "100/100 [==============================] - 18s 178ms/step - loss: 0.0226 - acc: 0.9905 - val_loss: 0.2412 - val_acc: 0.9440\n",
      "Epoch 92/100\n",
      "100/100 [==============================] - 18s 181ms/step - loss: 0.0201 - acc: 0.9910 - val_loss: 0.2691 - val_acc: 0.9340\n",
      "Epoch 93/100\n",
      "100/100 [==============================] - 18s 180ms/step - loss: 0.0183 - acc: 0.9940 - val_loss: 0.3106 - val_acc: 0.9350\n",
      "Epoch 94/100\n",
      "100/100 [==============================] - 18s 178ms/step - loss: 0.0155 - acc: 0.9945 - val_loss: 0.2201 - val_acc: 0.9530\n",
      "Epoch 95/100\n",
      "100/100 [==============================] - 18s 176ms/step - loss: 0.0171 - acc: 0.9930 - val_loss: 0.2258 - val_acc: 0.9410\n",
      "Epoch 96/100\n",
      "100/100 [==============================] - 17s 169ms/step - loss: 0.0194 - acc: 0.9945 - val_loss: 0.2785 - val_acc: 0.9390\n",
      "Epoch 97/100\n",
      "100/100 [==============================] - 17s 168ms/step - loss: 0.0134 - acc: 0.9955 - val_loss: 0.3374 - val_acc: 0.9360\n",
      "Epoch 98/100\n",
      "100/100 [==============================] - 17s 169ms/step - loss: 0.0151 - acc: 0.9960 - val_loss: 0.2294 - val_acc: 0.9360\n",
      "Epoch 99/100\n",
      "100/100 [==============================] - 17s 169ms/step - loss: 0.0197 - acc: 0.9940 - val_loss: 0.2888 - val_acc: 0.9350\n",
      "Epoch 100/100\n",
      "100/100 [==============================] - 18s 179ms/step - loss: 0.0242 - acc: 0.9935 - val_loss: 0.2557 - val_acc: 0.9410\n"
     ]
    }
   ],
   "source": [
    "model.compile(loss='binary_crossentropy',\n",
    "              optimizer=optimizers.RMSprop(lr=1e-5),\n",
    "              metrics=['acc'])\n",
    "\n",
    "history = model.fit_generator(\n",
    "      train_generator,\n",
    "      steps_per_epoch=100,\n",
    "      epochs=100,\n",
    "      validation_data=validation_generator,\n",
    "      validation_steps=50)"
   ]
  },
  {
   "cell_type": "code",
   "execution_count": 25,
   "metadata": {},
   "outputs": [],
   "source": [
    "model.save('cats_and_dogs_small_4.h5')"
   ]
  },
  {
   "cell_type": "code",
   "execution_count": 26,
   "metadata": {},
   "outputs": [
    {
     "data": {
      "image/png": "[encoded data removed]",
      "text/plain": [
       "<Figure size 432x288 with 1 Axes>"
      ]
     },
     "metadata": {
      "needs_background": "light"
     },
     "output_type": "display_data"
    },
    {
     "data": {
      "image/png": "[encoded data removed]",
      "text/plain": [
       "<Figure size 432x288 with 1 Axes>"
      ]
     },
     "metadata": {
      "needs_background": "light"
     },
     "output_type": "display_data"
    }
   ],
   "source": [
    "\n",
    "acc = history.history['acc']\n",
    "val_acc = history.history['val_acc']\n",
    "loss = history.history['loss']\n",
    "val_loss = history.history['val_loss']\n",
    "\n",
    "epochs = range(len(acc))\n",
    "\n",
    "plt.plot(epochs, acc, 'bo', label='Training acc')\n",
    "plt.plot(epochs, val_acc, 'b', label='Validation acc')\n",
    "plt.title('Training and validation accuracy')\n",
    "plt.legend()\n",
    "\n",
    "plt.figure()\n",
    "\n",
    "plt.plot(epochs, loss, 'bo', label='Training loss')\n",
    "plt.plot(epochs, val_loss, 'b', label='Validation loss')\n",
    "plt.title('Training and validation loss')\n",
    "plt.legend()\n",
    "\n",
    "plt.show()"
   ]
  },
  {
   "cell_type": "code",
   "execution_count": 27,
   "metadata": {},
   "outputs": [
    {
     "data": {
      "image/png": "[encoded data removed]",
      "text/plain": [
       "<Figure size 432x288 with 1 Axes>"
      ]
     },
     "metadata": {
      "needs_background": "light"
     },
     "output_type": "display_data"
    },
    {
     "data": {
      "image/png": "[encoded data removed]",
      "text/plain": [
       "<Figure size 432x288 with 1 Axes>"
      ]
     },
     "metadata": {
      "needs_background": "light"
     },
     "output_type": "display_data"
    }
   ],
   "source": [
    "def smooth_curve(points, factor=0.8):\n",
    "  smoothed_points = []\n",
    "  for point in points:\n",
    "    if smoothed_points:\n",
    "      previous = smoothed_points[-1]\n",
    "      smoothed_points.append(previous * factor + point * (1 - factor))\n",
    "    else:\n",
    "      smoothed_points.append(point)\n",
    "  return smoothed_points\n",
    "\n",
    "plt.plot(epochs,\n",
    "         smooth_curve(acc), 'bo', label='Smoothed training acc')\n",
    "plt.plot(epochs,\n",
    "         smooth_curve(val_acc), 'b', label='Smoothed validation acc')\n",
    "plt.title('Training and validation accuracy')\n",
    "plt.legend()\n",
    "\n",
    "plt.figure()\n",
    "\n",
    "plt.plot(epochs,\n",
    "         smooth_curve(loss), 'bo', label='Smoothed training loss')\n",
    "plt.plot(epochs,\n",
    "         smooth_curve(val_loss), 'b', label='Smoothed validation loss')\n",
    "plt.title('Training and validation loss')\n",
    "plt.legend()\n",
    "\n",
    "plt.show()"
   ]
  },
  {
   "cell_type": "code",
   "execution_count": 28,
   "metadata": {},
   "outputs": [
    {
     "name": "stdout",
     "output_type": "stream",
     "text": [
      "Found 1000 images belonging to 2 classes.\n",
      "test acc: 0.9349999952316285\n"
     ]
    }
   ],
   "source": [
    "test_generator = test_datagen.flow_from_directory(\n",
    "        test_dir,\n",
    "        target_size=(150, 150),\n",
    "        batch_size=20,\n",
    "        class_mode='binary')\n",
    "\n",
    "test_loss, test_acc = model.evaluate_generator(test_generator, steps=50)\n",
    "print('test acc:', test_acc)"
   ]
  }
 ],
 "metadata": {
  "kernelspec": {
   "display_name": "Python 3",
   "language": "python",
   "name": "python3"
  },
  "language_info": {
   "codemirror_mode": {
    "name": "ipython",
    "version": 3
   },
   "file_extension": ".py",
   "mimetype": "text/x-python",
   "name": "python",
   "nbconvert_exporter": "python",
   "pygments_lexer": "ipython3",
   "version": "3.6.6"
  }
 },
 "nbformat": 4,
 "nbformat_minor": 2
}
