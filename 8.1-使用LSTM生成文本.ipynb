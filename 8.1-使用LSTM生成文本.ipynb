{
 "cells": [
  {
   "cell_type": "markdown",
   "metadata": {},
   "source": [
    "### 字符级LSTM文本生成\n",
    "\n",
    "#### 下载并解析初始文本文件"
   ]
  },
  {
   "cell_type": "code",
   "execution_count": 1,
   "metadata": {},
   "outputs": [
    {
     "name": "stderr",
     "output_type": "stream",
     "text": [
      "Using TensorFlow backend.\n"
     ]
    },
    {
     "name": "stdout",
     "output_type": "stream",
     "text": [
      "Corpus length: 600893\n"
     ]
    }
   ],
   "source": [
    "import keras\n",
    "import numpy as np\n",
    "path = keras.utils.get_file(\n",
    "    'nietzsche.txt',\n",
    "    origin='https://s3.amazonaws.com/text-datasets/nietzsche.txt')\n",
    "text = open(path, 'r', encoding='utf-8').read().lower()\n",
    "print('Corpus length:', len(text))"
   ]
  },
  {
   "cell_type": "markdown",
   "metadata": {},
   "source": [
    "#### 将字符序列向量化"
   ]
  },
  {
   "cell_type": "code",
   "execution_count": 2,
   "metadata": {},
   "outputs": [
    {
     "name": "stdout",
     "output_type": "stream",
     "text": [
      "Number of sentences: 200278\n",
      "Unique characters: 57\n",
      "Vectorizatuin...\n"
     ]
    }
   ],
   "source": [
    "maxlen = 60      # 提取 60 个字符组成的序列\n",
    "step = 3         # 每 3 个字符采样一个新序列\n",
    "sentences = []   # 保存所提取的序列\n",
    "next_chars = []  # 保存目标（即下一个字符）\n",
    "\n",
    "for i in range(0, len(text) - maxlen, step):\n",
    "    sentences.append(text[i: i + maxlen])\n",
    "    next_chars.append(text[i + maxlen])\n",
    "    \n",
    "print('Number of sentences:', len(sentences))\n",
    "\n",
    "chars = sorted(list(set(text)))    # 语料中唯一字符组成的列表\n",
    "print('Unique characters:', len(chars))\n",
    "char_indices = dict((char, chars.index(char)) for char in chars)\n",
    "\n",
    "print('Vectorizatuin...')\n",
    "x = np.zeros((len(sentences), maxlen, len(chars)), dtype=np.bool)\n",
    "y = np.zeros((len(sentences), len(chars)), dtype=np.bool)\n",
    "for i, sentence in enumerate(sentences):\n",
    "    for t, char in enumerate(sentence):\n",
    "        x[i, t, char_indices[char]] = 1\n",
    "    y[i, char_indices[next_chars[i]]] = 1"
   ]
  },
  {
   "cell_type": "markdown",
   "metadata": {},
   "source": [
    "#### 用于预测下一个字符的单层LSTM模型"
   ]
  },
  {
   "cell_type": "code",
   "execution_count": 3,
   "metadata": {},
   "outputs": [],
   "source": [
    "from keras import layers\n",
    "\n",
    "model = keras.models.Sequential()\n",
    "model.add(layers.LSTM(128, input_shape=(maxlen, len(chars))))\n",
    "model.add(layers.Dense(len(chars), activation='softmax'))"
   ]
  },
  {
   "cell_type": "markdown",
   "metadata": {},
   "source": [
    "#### 模型编译配置"
   ]
  },
  {
   "cell_type": "code",
   "execution_count": 4,
   "metadata": {},
   "outputs": [],
   "source": [
    "optimizer = keras.optimizers.RMSprop(lr=0.01)\n",
    "model.compile(loss='categorical_crossentropy', optimizer=optimizer)"
   ]
  },
  {
   "cell_type": "markdown",
   "metadata": {},
   "source": [
    "#### 给定模型预测，采样下一个字符的函数"
   ]
  },
  {
   "cell_type": "code",
   "execution_count": 5,
   "metadata": {},
   "outputs": [],
   "source": [
    "def sample(preds, temperature=1.0):\n",
    "    preds = np.asarray(preds).astype('float64')\n",
    "    preds = np.log(preds) / temperature\n",
    "    exp_preds = np.exp(preds)\n",
    "    preds = exp_preds / np.sum(exp_preds)\n",
    "    probas = np.random.multinomial(1, preds, 1)\n",
    "    return np.argmax(probas)"
   ]
  },
  {
   "cell_type": "markdown",
   "metadata": {},
   "source": [
    "#### 文本生成循环"
   ]
  },
  {
   "cell_type": "code",
   "execution_count": null,
   "metadata": {},
   "outputs": [
    {
     "name": "stdout",
     "output_type": "stream",
     "text": [
      "epoch 1\n",
      "Epoch 1/1\n",
      "200278/200278 [==============================] - 173s 865us/step - loss: 1.6299\n",
      "--- Generating with seed: \"ul of a proud viking. such a type of man is even proud of no\"\n",
      "------ temperature: 0.2\n",
      "ul of a proud viking. such a type of man is even proud of not------ temperature: 0.5\n",
      "l of a proud viking. such a type of man is even proud of not ------ temperature: 1.0\n",
      " of a proud viking. such a type of man is even proud of not d------ temperature: 1.2\n",
      "of a proud viking. such a type of man is even proud of not diepoch 2\n",
      "Epoch 1/1\n",
      "200278/200278 [==============================] - 171s 854us/step - loss: 1.5370\n",
      "--- Generating with seed: \"s, when we cut ourselves, surgically, to\n",
      "heal our ills, or s\"\n",
      "------ temperature: 0.2\n",
      "s, when we cut ourselves, surgically, to\n",
      "heal our ills, or so------ temperature: 0.5\n",
      ", when we cut ourselves, surgically, to\n",
      "heal our ills, or soc------ temperature: 1.0\n",
      " when we cut ourselves, surgically, to\n",
      "heal our ills, or soci------ temperature: 1.2\n",
      "when we cut ourselves, surgically, to\n",
      "heal our ills, or socitepoch 3\n",
      "Epoch 1/1\n",
      "200278/200278 [==============================] - 174s 868us/step - loss: 1.4890\n",
      "--- Generating with seed: \"onders how it is possible to\n",
      "act \"disinterestedly.\" there ha\"\n",
      "------ temperature: 0.2\n",
      "onders how it is possible to\n",
      "act \"disinterestedly.\" there has------ temperature: 0.5\n",
      "nders how it is possible to\n",
      "act \"disinterestedly.\" there has ------ temperature: 1.0\n",
      "ders how it is possible to\n",
      "act \"disinterestedly.\" there has m------ temperature: 1.2\n",
      "ers how it is possible to\n",
      "act \"disinterestedly.\" there has meepoch 4\n",
      "Epoch 1/1\n",
      "200278/200278 [==============================] - 177s 882us/step - loss: 1.4578\n",
      "--- Generating with seed: \"red; the species needs itself as species, as something which\"\n",
      "------ temperature: 0.2\n",
      "red; the species needs itself as species, as something which ------ temperature: 0.5\n",
      "ed; the species needs itself as species, as something which h------ temperature: 1.0\n",
      "d; the species needs itself as species, as something which he------ temperature: 1.2\n",
      "; the species needs itself as species, as something which he.epoch 5\n",
      "Epoch 1/1\n",
      "200278/200278 [==============================] - 175s 875us/step - loss: 1.4358\n",
      "--- Generating with seed: \"ld: any kind\n",
      "of offensive incontinence, any kind of sordid e\"\n",
      "------ temperature: 0.2\n",
      "ld: any kind\n",
      "of offensive incontinence, any kind of sordid ev------ temperature: 0.5\n",
      "d: any kind\n",
      "of offensive incontinence, any kind of sordid eve------ temperature: 1.0\n",
      ": any kind\n",
      "of offensive incontinence, any kind of sordid even------ temperature: 1.2\n",
      " any kind\n",
      "of offensive incontinence, any kind of sordid eventepoch 6\n",
      "Epoch 1/1\n",
      "200278/200278 [==============================] - 174s 868us/step - loss: 1.4172\n",
      "--- Generating with seed: \"y\n",
      "friendliness of disposition gains the ascendancy over him-\"\n",
      "------ temperature: 0.2\n",
      "y\n",
      "friendliness of disposition gains the ascendancy over him-------- temperature: 0.5\n",
      "\n",
      "friendliness of disposition gains the ascendancy over him--h------ temperature: 1.0\n",
      "friendliness of disposition gains the ascendancy over him--he------ temperature: 1.2\n",
      "riendliness of disposition gains the ascendancy over him--herepoch 7\n",
      "Epoch 1/1\n",
      "200278/200278 [==============================] - 173s 866us/step - loss: 1.4052\n",
      "--- Generating with seed: \"pirit is indescribably painful, that all the\n",
      "past and all th\"\n",
      "------ temperature: 0.2\n",
      "pirit is indescribably painful, that all the\n",
      "past and all the------ temperature: 0.5\n",
      "irit is indescribably painful, that all the\n",
      "past and all the ------ temperature: 1.0\n",
      "rit is indescribably painful, that all the\n",
      "past and all the l------ temperature: 1.2\n",
      "it is indescribably painful, that all the\n",
      "past and all the laepoch 8\n",
      "Epoch 1/1\n",
      "200278/200278 [==============================] - 171s 856us/step - loss: 1.3920\n",
      "--- Generating with seed: \"trial spirit has triumphed over the military\n",
      "and aristocrati\"\n",
      "------ temperature: 0.2\n",
      "trial spirit has triumphed over the military\n",
      "and aristocratic------ temperature: 0.5\n",
      "rial spirit has triumphed over the military\n",
      "and aristocratic ------ temperature: 1.0\n",
      "ial spirit has triumphed over the military\n",
      "and aristocratic s------ temperature: 1.2\n",
      "al spirit has triumphed over the military\n",
      "and aristocratic stepoch 9\n",
      "Epoch 1/1\n",
      "200278/200278 [==============================] - 172s 861us/step - loss: 1.3821\n",
      "--- Generating with seed: \"and countries\n",
      "\n",
      "\n",
      "240. i heard, once again for the first time,\"\n",
      "------ temperature: 0.2\n",
      "and countries\n",
      "\n",
      "\n",
      "240. i heard, once again for the first time, ------ temperature: 0.5\n",
      "nd countries\n",
      "\n",
      "\n",
      "240. i heard, once again for the first time, a------ temperature: 1.0\n",
      "d countries\n",
      "\n",
      "\n",
      "240. i heard, once again for the first time, an------ temperature: 1.2\n",
      " countries\n",
      "\n",
      "\n",
      "240. i heard, once again for the first time, andepoch 10\n",
      "Epoch 1/1\n",
      "200278/200278 [==============================] - 172s 857us/step - loss: 1.3726\n",
      "--- Generating with seed: \" mind too attentively upon his\n",
      "own brief lifetime and feels \"\n",
      "------ temperature: 0.2\n",
      " mind too attentively upon his\n",
      "own brief lifetime and feels a------ temperature: 0.5\n",
      "mind too attentively upon his\n",
      "own brief lifetime and feels an------ temperature: 1.0\n",
      "ind too attentively upon his\n",
      "own brief lifetime and feels and------ temperature: 1.2\n",
      "nd too attentively upon his\n",
      "own brief lifetime and feels andsepoch 11\n",
      "Epoch 1/1\n",
      "200278/200278 [==============================] - 170s 848us/step - loss: 1.3658\n",
      "--- Generating with seed: \" to bear the weight of such responsibility;\n",
      "and on the other\"\n",
      "------ temperature: 0.2\n",
      " to bear the weight of such responsibility;\n",
      "and on the other ------ temperature: 0.5\n",
      "to bear the weight of such responsibility;\n",
      "and on the other a------ temperature: 1.0\n",
      "o bear the weight of such responsibility;\n",
      "and on the other ad------ temperature: 1.2\n",
      " bear the weight of such responsibility;\n",
      "and on the other adeepoch 12\n",
      "Epoch 1/1\n",
      "200278/200278 [==============================] - 170s 851us/step - loss: 1.3598\n",
      "--- Generating with seed: \"nce,\n",
      "to the needy, as if it were the bad which deserved to b\"\n",
      "------ temperature: 0.2\n",
      "nce,\n",
      "to the needy, as if it were the bad which deserved to be------ temperature: 0.5\n",
      "ce,\n",
      "to the needy, as if it were the bad which deserved to be ------ temperature: 1.0\n",
      "e,\n",
      "to the needy, as if it were the bad which deserved to be a------ temperature: 1.2\n",
      ",\n",
      "to the needy, as if it were the bad which deserved to be alepoch 13\n",
      "Epoch 1/1\n",
      " 56448/200278 [=======>......................] - ETA: 2:00 - loss: 1.3318"
     ]
    }
   ],
   "source": [
    "import random\n",
    "import sys\n",
    "\n",
    "for epoch in range(1, 61):   # 模型训练 60 轮\n",
    "    print('epoch', epoch)\n",
    "    model.fit(x, y, batch_size=128, epochs=1)  # 将模型在数据上拟合一次\n",
    "    # 随机选择一个文本种子\n",
    "    start_index = random.randint(0, len(text) - maxlen - 1)\n",
    "    generated_text = text[start_index: start_index + maxlen]\n",
    "    print('--- Generating with seed: \"' + generated_text + '\"')\n",
    "    \n",
    "    # 尝试一系列不同的采样温度\n",
    "    for temperature in [0.2, 0.5, 1.0, 1.2]:\n",
    "        print('------ temperature:', temperature)\n",
    "        sys.stdout.write(generated_text)\n",
    "        \n",
    "        for i in range(400):    # 从种子文本开始，生成 400 个字符\n",
    "            # 对目前生成的字符进行 one-hot 编码\n",
    "            sampled = np.zeros((1, maxlen, len(chars)))\n",
    "            for t, char in enumerate(generated_text): \n",
    "                sampled[0, t, char_indices[char]] = 1.\n",
    "        \n",
    "        # 对下一个字符进行采样\n",
    "        preds = model.predict(sampled, verbose=0)[0]\n",
    "        next_index = sample(preds, temperature)\n",
    "        next_char = chars[next_index]\n",
    "        \n",
    "        generated_text += next_char\n",
    "        generated_text = generated_text[1:]\n",
    "        \n",
    "        sys.stdout.write(next_char)"
   ]
  },
  {
   "cell_type": "code",
   "execution_count": null,
   "metadata": {},
   "outputs": [],
   "source": []
  }
 ],
 "metadata": {
  "kernelspec": {
   "display_name": "Python 3",
   "language": "python",
   "name": "python3"
  },
  "language_info": {
   "codemirror_mode": {
    "name": "ipython",
    "version": 3
   },
   "file_extension": ".py",
   "mimetype": "text/x-python",
   "name": "python",
   "nbconvert_exporter": "python",
   "pygments_lexer": "ipython3",
   "version": "3.6.6"
  }
 },
 "nbformat": 4,
 "nbformat_minor": 2
}
