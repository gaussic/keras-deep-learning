{
 "cells": [
  {
   "cell_type": "markdown",
   "metadata": {},
   "source": [
    "### 生成器\n",
    "\n",
    "#### GAN 生成器网络"
   ]
  },
  {
   "cell_type": "code",
   "execution_count": 1,
   "metadata": {
    "scrolled": false
   },
   "outputs": [
    {
     "name": "stderr",
     "output_type": "stream",
     "text": [
      "Using TensorFlow backend.\n"
     ]
    },
    {
     "name": "stdout",
     "output_type": "stream",
     "text": [
      "_________________________________________________________________\n",
      "Layer (type)                 Output Shape              Param #   \n",
      "=================================================================\n",
      "input_1 (InputLayer)         (None, 32)                0         \n",
      "_________________________________________________________________\n",
      "dense_1 (Dense)              (None, 32768)             1081344   \n",
      "_________________________________________________________________\n",
      "leaky_re_lu_1 (LeakyReLU)    (None, 32768)             0         \n",
      "_________________________________________________________________\n",
      "reshape_1 (Reshape)          (None, 16, 16, 128)       0         \n",
      "_________________________________________________________________\n",
      "conv2d_1 (Conv2D)            (None, 16, 16, 256)       819456    \n",
      "_________________________________________________________________\n",
      "leaky_re_lu_2 (LeakyReLU)    (None, 16, 16, 256)       0         \n",
      "_________________________________________________________________\n",
      "conv2d_transpose_1 (Conv2DTr (None, 32, 32, 256)       1048832   \n",
      "_________________________________________________________________\n",
      "leaky_re_lu_3 (LeakyReLU)    (None, 32, 32, 256)       0         \n",
      "_________________________________________________________________\n",
      "conv2d_2 (Conv2D)            (None, 32, 32, 256)       1638656   \n",
      "_________________________________________________________________\n",
      "leaky_re_lu_4 (LeakyReLU)    (None, 32, 32, 256)       0         \n",
      "_________________________________________________________________\n",
      "conv2d_3 (Conv2D)            (None, 32, 32, 256)       1638656   \n",
      "_________________________________________________________________\n",
      "leaky_re_lu_5 (LeakyReLU)    (None, 32, 32, 256)       0         \n",
      "_________________________________________________________________\n",
      "conv2d_4 (Conv2D)            (None, 32, 32, 3)         37635     \n",
      "=================================================================\n",
      "Total params: 6,264,579\n",
      "Trainable params: 6,264,579\n",
      "Non-trainable params: 0\n",
      "_________________________________________________________________\n"
     ]
    }
   ],
   "source": [
    "import keras\n",
    "from keras import layers\n",
    "import numpy as np\n",
    "\n",
    "latent_dim = 32\n",
    "height = 32\n",
    "width = 32\n",
    "channels = 3\n",
    "\n",
    "generator_input = keras.Input(shape=(latent_dim,))\n",
    "\n",
    "# 将输入转换为大小为 16x16 的 128 通道的特征图\n",
    "x = layers.Dense(128 * 16 * 16)(generator_input)\n",
    "x = layers.LeakyReLU()(x)\n",
    "x = layers.Reshape((16, 16, 128))(x)\n",
    "\n",
    "x = layers.Conv2D(256, 5, padding='same')(x)\n",
    "x = layers.LeakyReLU()(x)\n",
    "\n",
    "# 上采样为 32x32\n",
    "x = layers.Conv2DTranspose(256, 4, strides=2, padding='same')(x)\n",
    "x = layers.LeakyReLU()(x)\n",
    "\n",
    "x = layers.Conv2D(256, 5, padding='same')(x)\n",
    "x = layers.LeakyReLU()(x)\n",
    "x = layers.Conv2D(256, 5, padding='same')(x)\n",
    "x = layers.LeakyReLU()(x)\n",
    "\n",
    "# 生成一个大小为 32x32 的单通道特征图（即 CIFAR10 图像的形状）\n",
    "x = layers.Conv2D(channels, 7, activation='tanh', padding='same')(x)\n",
    "generator = keras.models.Model(generator_input, x)\n",
    "generator.summary()"
   ]
  },
  {
   "cell_type": "markdown",
   "metadata": {},
   "source": [
    "### 判别器\n",
    "\n",
    "#### GAN 判别器网络"
   ]
  },
  {
   "cell_type": "code",
   "execution_count": 7,
   "metadata": {},
   "outputs": [
    {
     "name": "stdout",
     "output_type": "stream",
     "text": [
      "_________________________________________________________________\n",
      "Layer (type)                 Output Shape              Param #   \n",
      "=================================================================\n",
      "input_7 (InputLayer)         (None, 32, 32, 3)         0         \n",
      "_________________________________________________________________\n",
      "conv2d_23 (Conv2D)           (None, 30, 30, 128)       3584      \n",
      "_________________________________________________________________\n",
      "leaky_re_lu_24 (LeakyReLU)   (None, 30, 30, 128)       0         \n",
      "_________________________________________________________________\n",
      "conv2d_24 (Conv2D)           (None, 14, 14, 128)       262272    \n",
      "_________________________________________________________________\n",
      "leaky_re_lu_25 (LeakyReLU)   (None, 14, 14, 128)       0         \n",
      "_________________________________________________________________\n",
      "conv2d_25 (Conv2D)           (None, 6, 6, 128)         262272    \n",
      "_________________________________________________________________\n",
      "leaky_re_lu_26 (LeakyReLU)   (None, 6, 6, 128)         0         \n",
      "_________________________________________________________________\n",
      "conv2d_26 (Conv2D)           (None, 2, 2, 128)         262272    \n",
      "_________________________________________________________________\n",
      "leaky_re_lu_27 (LeakyReLU)   (None, 2, 2, 128)         0         \n",
      "_________________________________________________________________\n",
      "flatten_5 (Flatten)          (None, 512)               0         \n",
      "_________________________________________________________________\n",
      "dropout_5 (Dropout)          (None, 512)               0         \n",
      "_________________________________________________________________\n",
      "dense_5 (Dense)              (None, 1)                 513       \n",
      "=================================================================\n",
      "Total params: 790,913\n",
      "Trainable params: 790,913\n",
      "Non-trainable params: 0\n",
      "_________________________________________________________________\n"
     ]
    }
   ],
   "source": [
    "discriminator_input = layers.Input(shape=(height, width, channels))\n",
    "x = layers.Conv2D(128, 3)(discriminator_input)\n",
    "x = layers.LeakyReLU()(x)\n",
    "x = layers.Conv2D(128, 4, strides=2)(x)\n",
    "x = layers.LeakyReLU()(x)\n",
    "x = layers.Conv2D(128, 4, strides=2)(x)\n",
    "x = layers.LeakyReLU()(x)\n",
    "x = layers.Conv2D(128, 4, strides=2)(x)\n",
    "x = layers.LeakyReLU()(x)\n",
    "x = layers.Flatten()(x)\n",
    "\n",
    "# 一个 dropout 层：这是很重要的技巧\n",
    "x = layers.Dropout(0.4)(x)\n",
    "\n",
    "# 分类层\n",
    "x = layers.Dense(1, activation='sigmoid')(x)\n",
    "\n",
    "# 将判别器模型实例化，它将形状为(32,32,3)的输入转换为一个二进制分类决策（真/假）\n",
    "discriminator = keras.models.Model(discriminator_input, x)\n",
    "discriminator.summary()\n",
    "\n",
    "# 在优化器中使用梯度裁剪（限制梯度值的范围）\n",
    "# 为了稳定训练过程，使用学习率衰减\n",
    "discriminator_optimizer = keras.optimizers.RMSprop(\n",
    "    lr=0.0008,\n",
    "    clipvalue=1.0,\n",
    "    decay=1e-8)\n",
    "\n",
    "discriminator.compile(optimizer=discriminator_optimizer, \n",
    "                       loss='binary_crossentropy')"
   ]
  },
  {
   "cell_type": "markdown",
   "metadata": {},
   "source": [
    "### 对抗网络\n",
    "\n",
    "#### 对抗网络"
   ]
  },
  {
   "cell_type": "code",
   "execution_count": 8,
   "metadata": {},
   "outputs": [],
   "source": [
    "# 将判别器权重设置为不可训练（仅应用于 gan 模型）\n",
    "discriminator.trainable = False\n",
    "\n",
    "gan_input = keras.Input(shape=(latent_dim,))\n",
    "gan_output = discriminator(generator(gan_input))\n",
    "gan = keras.models.Model(gan_input, gan_output)\n",
    "\n",
    "gan_optimizer = keras.optimizers.RMSprop(lr=0.0004, clipvalue=1.0, decay=1e-8)\n",
    "gan.compile(optimizer=gan_optimizer, loss='binary_crossentropy')"
   ]
  },
  {
   "cell_type": "markdown",
   "metadata": {},
   "source": [
    "#### 实现 GAN 的训练"
   ]
  },
  {
   "cell_type": "code",
   "execution_count": 12,
   "metadata": {},
   "outputs": [
    {
     "name": "stdout",
     "output_type": "stream",
     "text": [
      "discriminator loss: 3.5984216\n",
      "adversarial loss: 15.783483\n",
      "discriminator loss: 1.1564958\n",
      "adversarial loss: 0.98321533\n",
      "discriminator loss: 0.70800436\n",
      "adversarial loss: 0.7919347\n",
      "discriminator loss: 0.6555446\n",
      "adversarial loss: 3.1433706\n",
      "discriminator loss: 0.6910502\n",
      "adversarial loss: 0.7656783\n",
      "discriminator loss: 0.6951298\n",
      "adversarial loss: 0.73912215\n",
      "discriminator loss: 0.69408536\n",
      "adversarial loss: 0.7470359\n",
      "discriminator loss: 0.7141268\n",
      "adversarial loss: 0.82636386\n",
      "discriminator loss: 0.6998371\n",
      "adversarial loss: 0.75417185\n",
      "discriminator loss: 0.6937798\n",
      "adversarial loss: 0.76550967\n",
      "discriminator loss: 0.6959633\n",
      "adversarial loss: 0.7521432\n",
      "discriminator loss: 0.70314753\n",
      "adversarial loss: 0.72929853\n",
      "discriminator loss: 0.68970966\n",
      "adversarial loss: 0.74737585\n",
      "discriminator loss: 0.68523866\n",
      "adversarial loss: 0.7979475\n",
      "discriminator loss: 0.7050343\n",
      "adversarial loss: 0.86313516\n",
      "discriminator loss: 0.70159185\n",
      "adversarial loss: 0.76242435\n",
      "discriminator loss: 0.6729363\n",
      "adversarial loss: 0.9365171\n",
      "discriminator loss: 0.7062398\n",
      "adversarial loss: 0.74489605\n",
      "discriminator loss: 0.6986608\n",
      "adversarial loss: 0.8625709\n",
      "discriminator loss: 0.68570757\n",
      "adversarial loss: 0.7742115\n",
      "discriminator loss: 0.7166843\n",
      "adversarial loss: 0.77749157\n",
      "discriminator loss: 0.69838583\n",
      "adversarial loss: 0.75814724\n",
      "discriminator loss: 0.689849\n",
      "adversarial loss: 0.73152214\n",
      "discriminator loss: 0.6820959\n",
      "adversarial loss: 0.7165511\n",
      "discriminator loss: 0.7100755\n",
      "adversarial loss: 0.740008\n",
      "discriminator loss: 0.74477303\n",
      "adversarial loss: 0.81016624\n",
      "discriminator loss: 0.67724913\n",
      "adversarial loss: 0.7013552\n",
      "discriminator loss: 0.6855652\n",
      "adversarial loss: 0.72376126\n",
      "discriminator loss: 0.6822507\n",
      "adversarial loss: 0.7335366\n",
      "discriminator loss: 0.84577495\n",
      "adversarial loss: 0.7247957\n",
      "discriminator loss: 0.697744\n",
      "adversarial loss: 0.7361662\n",
      "discriminator loss: 0.6904738\n",
      "adversarial loss: 1.2527546\n",
      "discriminator loss: 0.7035037\n",
      "adversarial loss: 0.70244044\n",
      "discriminator loss: 0.70252305\n",
      "adversarial loss: 0.74882126\n",
      "discriminator loss: 0.71647614\n",
      "adversarial loss: 0.709054\n",
      "discriminator loss: 0.69555813\n",
      "adversarial loss: 0.7803597\n",
      "discriminator loss: 0.69207513\n",
      "adversarial loss: 0.768216\n",
      "discriminator loss: 0.70835984\n",
      "adversarial loss: 0.7522403\n",
      "discriminator loss: 0.70312655\n",
      "adversarial loss: 0.7617508\n",
      "discriminator loss: 0.7017468\n",
      "adversarial loss: 0.7547859\n",
      "discriminator loss: 0.68435216\n",
      "adversarial loss: 0.76130664\n",
      "discriminator loss: 0.7110009\n",
      "adversarial loss: 0.7326165\n",
      "discriminator loss: 0.6873126\n",
      "adversarial loss: 0.7135819\n",
      "discriminator loss: 0.67483234\n",
      "adversarial loss: 0.8453058\n",
      "discriminator loss: 0.68807614\n",
      "adversarial loss: 0.7325305\n",
      "discriminator loss: 0.6868191\n",
      "adversarial loss: 0.74739397\n",
      "discriminator loss: 0.6960537\n",
      "adversarial loss: 0.7392805\n",
      "discriminator loss: 0.6964472\n",
      "adversarial loss: 0.7641884\n",
      "discriminator loss: 0.68227947\n",
      "adversarial loss: 0.7588044\n",
      "discriminator loss: 0.6805647\n",
      "adversarial loss: 0.713338\n",
      "discriminator loss: 0.68990934\n",
      "adversarial loss: 0.570034\n",
      "discriminator loss: 0.7049304\n",
      "adversarial loss: 0.7031184\n",
      "discriminator loss: 0.7054745\n",
      "adversarial loss: 0.76447314\n",
      "discriminator loss: 0.69514966\n",
      "adversarial loss: 0.7437682\n",
      "discriminator loss: 0.69655275\n",
      "adversarial loss: 0.78089386\n",
      "discriminator loss: 0.7023799\n",
      "adversarial loss: 0.80921143\n",
      "discriminator loss: 0.6947579\n",
      "adversarial loss: 0.75037754\n",
      "discriminator loss: 0.6948633\n",
      "adversarial loss: 0.75640994\n",
      "discriminator loss: 0.69159985\n",
      "adversarial loss: 0.7573077\n",
      "discriminator loss: 0.70924515\n",
      "adversarial loss: 1.04611\n",
      "discriminator loss: 0.69239855\n",
      "adversarial loss: 0.80791265\n",
      "discriminator loss: 0.6795201\n",
      "adversarial loss: 0.8809544\n",
      "discriminator loss: 0.6991273\n",
      "adversarial loss: 0.80974483\n",
      "discriminator loss: 0.6790673\n",
      "adversarial loss: 0.83592284\n",
      "discriminator loss: 0.6838125\n",
      "adversarial loss: 0.7667758\n",
      "discriminator loss: 0.7352602\n",
      "adversarial loss: 1.1313479\n",
      "discriminator loss: 0.6791031\n",
      "adversarial loss: 0.74425185\n",
      "discriminator loss: 0.70625585\n",
      "adversarial loss: 1.077026\n",
      "discriminator loss: 0.68641794\n",
      "adversarial loss: 1.0233052\n",
      "discriminator loss: 0.69981456\n",
      "adversarial loss: 0.7417759\n",
      "discriminator loss: 0.6780653\n",
      "adversarial loss: 0.78596246\n",
      "discriminator loss: 0.7086427\n",
      "adversarial loss: 0.807171\n",
      "discriminator loss: 0.7167313\n",
      "adversarial loss: 0.7550489\n",
      "discriminator loss: 0.6775654\n",
      "adversarial loss: 0.73348\n",
      "discriminator loss: 0.672328\n",
      "adversarial loss: 0.8240881\n",
      "discriminator loss: 0.6921692\n",
      "adversarial loss: 0.76706886\n",
      "discriminator loss: 0.72175056\n",
      "adversarial loss: 0.77088976\n",
      "discriminator loss: 0.70473266\n",
      "adversarial loss: 0.80766594\n",
      "discriminator loss: 0.679798\n",
      "adversarial loss: 0.77194154\n",
      "discriminator loss: 0.7252894\n",
      "adversarial loss: 0.7468602\n",
      "discriminator loss: 0.67176235\n",
      "adversarial loss: 0.86583674\n",
      "discriminator loss: 0.6790861\n",
      "adversarial loss: 0.83729136\n",
      "discriminator loss: 0.72986996\n",
      "adversarial loss: 0.9119816\n",
      "discriminator loss: 0.6947707\n",
      "adversarial loss: 0.78322834\n",
      "discriminator loss: 0.72971636\n",
      "adversarial loss: 0.7669861\n",
      "discriminator loss: 0.6993717\n",
      "adversarial loss: 0.8478304\n",
      "discriminator loss: 0.75069875\n",
      "adversarial loss: 0.66116405\n",
      "discriminator loss: 0.7477996\n",
      "adversarial loss: 0.76251954\n",
      "discriminator loss: 0.6636306\n",
      "adversarial loss: 0.83377516\n",
      "discriminator loss: 0.7527207\n",
      "adversarial loss: 0.73931116\n",
      "discriminator loss: 0.85823965\n",
      "adversarial loss: 1.1027933\n",
      "discriminator loss: 0.7039304\n",
      "adversarial loss: 0.71029174\n",
      "discriminator loss: 0.6686255\n",
      "adversarial loss: 0.7620605\n",
      "discriminator loss: 0.7136502\n",
      "adversarial loss: 0.7519536\n",
      "discriminator loss: 0.67960876\n",
      "adversarial loss: 0.76601154\n",
      "discriminator loss: 0.66229534\n",
      "adversarial loss: 0.821103\n",
      "discriminator loss: 0.66400325\n",
      "adversarial loss: 0.7788977\n",
      "discriminator loss: 0.69946647\n",
      "adversarial loss: 0.85749215\n",
      "discriminator loss: 0.6834618\n",
      "adversarial loss: 0.75357693\n",
      "discriminator loss: 0.67953336\n",
      "adversarial loss: 0.8066758\n"
     ]
    }
   ],
   "source": [
    "import os\n",
    "from keras.preprocessing import image\n",
    "\n",
    "# 加载 CIFAR10 数据\n",
    "(x_train, y_train), (_, _) = keras.datasets.cifar10.load_data()\n",
    "\n",
    "# 选择青蛙图像（类别编号为 6）\n",
    "x_train = x_train[y_train.flatten() == 6]\n",
    "\n",
    "# 数据标准化\n",
    "x_train = x_train.reshape(\n",
    "    (x_train.shape[0],) + \n",
    "    (height, width, channels)).astype('float32') / 255.\n",
    "\n",
    "iterations = 10000\n",
    "batch_size = 20\n",
    "save_dir = 'images/gan'   # 指定保存生成图像的目录\n",
    "\n",
    "start = 0\n",
    "for step in range(iterations):\n",
    "    # 在潜在空间中采样随机点\n",
    "    random_latent_vectors = np.random.normal(size=(batch_size,\n",
    "                                                   latent_dim))\n",
    "    # 将这些点解码为虚假图像\n",
    "    generated_images = generator.predict(random_latent_vectors)\n",
    "    \n",
    "    # 将这些虚假图像与真实图像合在一起\n",
    "    stop = start + batch_size\n",
    "    real_image = x_train[start: stop]\n",
    "    combined_images = np.concatenate([generated_images, real_image])\n",
    "    \n",
    "    # 合并标签，区分真是和虚假的图像\n",
    "    labels = np.concatenate([np.ones((batch_size, 1)),\n",
    "                             np.zeros((batch_size, 1))])\n",
    "    # 向标签中添加随机噪声，这是一个很重要的技巧\n",
    "    labels += 0.05 * np.random.random(labels.shape)\n",
    "    \n",
    "    # 训练判别器\n",
    "    d_loss = discriminator.train_on_batch(combined_images, labels)\n",
    "    \n",
    "    # 在潜在空间中采样随机点\n",
    "    random_latent_vectors = np.random.normal(size=(batch_size,\n",
    "                                                   latent_dim))\n",
    "    \n",
    "    # 合并标签，全都是“真实图像”（这是在撒谎）\n",
    "    misleading_targets = np.zeros((batch_size, 1))\n",
    "    \n",
    "    # 通过 gan 模型来训练生成器（此时冻结判别器权重）\n",
    "    a_loss = gan.train_on_batch(random_latent_vectors, misleading_targets)\n",
    "    \n",
    "    start += batch_size\n",
    "    if start > len(x_train) - batch_size:\n",
    "        start = 0\n",
    "        \n",
    "    # 每 100 步保存并绘图\n",
    "    if step % 100 == 0:\n",
    "        gan.save_weights('gan.h5')    # 保存模型权重\n",
    "        \n",
    "        # 将指标打印出来\n",
    "        print('discriminator loss:', d_loss)\n",
    "        print('adversarial loss:', a_loss)\n",
    "        \n",
    "        # 保存一张生成图像\n",
    "        img = image.array_to_img(generated_images[0] * 255., scale=False)\n",
    "        img.save(os.path.join(save_dir,\n",
    "                              'generated_frog' + str(step) + '.png'))\n",
    "        \n",
    "        # 保存一张真实图像，用于对比\n",
    "        img = image.array_to_img(real_image[0] * 255., scale=False)\n",
    "        img.save(os.path.join(save_dir,\n",
    "                              'real_frog' + str(step) + '.png'))"
   ]
  },
  {
   "cell_type": "code",
   "execution_count": 13,
   "metadata": {},
   "outputs": [
    {
     "data": {
      "image/png": "[encoded data removed]",
      "text/plain": [
       "<Figure size 432x288 with 1 Axes>"
      ]
     },
     "metadata": {
      "needs_background": "light"
     },
     "output_type": "display_data"
    },
    {
     "data": {
      "image/png": "[encoded data removed]",
      "text/plain": [
       "<Figure size 432x288 with 1 Axes>"
      ]
     },
     "metadata": {
      "needs_background": "light"
     },
     "output_type": "display_data"
    },
    {
     "data": {
      "image/png": "[encoded data removed]",
      "text/plain": [
       "<Figure size 432x288 with 1 Axes>"
      ]
     },
     "metadata": {
      "needs_background": "light"
     },
     "output_type": "display_data"
    },
    {
     "data": {
      "image/png": "[encoded data removed]",
      "text/plain": [
       "<Figure size 432x288 with 1 Axes>"
      ]
     },
     "metadata": {
      "needs_background": "light"
     },
     "output_type": "display_data"
    },
    {
     "data": {
      "image/png": "[encoded data removed]",
      "text/plain": [
       "<Figure size 432x288 with 1 Axes>"
      ]
     },
     "metadata": {
      "needs_background": "light"
     },
     "output_type": "display_data"
    },
    {
     "data": {
      "image/png": "[encoded data removed]",
      "text/plain": [
       "<Figure size 432x288 with 1 Axes>"
      ]
     },
     "metadata": {
      "needs_background": "light"
     },
     "output_type": "display_data"
    },
    {
     "data": {
      "image/png": "[encoded data removed]",
      "text/plain": [
       "<Figure size 432x288 with 1 Axes>"
      ]
     },
     "metadata": {
      "needs_background": "light"
     },
     "output_type": "display_data"
    },
    {
     "data": {
      "image/png": "[encoded data removed]",
      "text/plain": [
       "<Figure size 432x288 with 1 Axes>"
      ]
     },
     "metadata": {
      "needs_background": "light"
     },
     "output_type": "display_data"
    },
    {
     "data": {
      "image/png": "[encoded data removed]",
      "text/plain": [
       "<Figure size 432x288 with 1 Axes>"
      ]
     },
     "metadata": {
      "needs_background": "light"
     },
     "output_type": "display_data"
    },
    {
     "data": {
      "image/png": "[encoded data removed]",
      "text/plain": [
       "<Figure size 432x288 with 1 Axes>"
      ]
     },
     "metadata": {
      "needs_background": "light"
     },
     "output_type": "display_data"
    }
   ],
   "source": [
    "import matplotlib.pyplot as plt\n",
    "%matplotlib inline\n",
    "\n",
    "# Sample random points in the latent space\n",
    "random_latent_vectors = np.random.normal(size=(10, latent_dim))\n",
    "\n",
    "# Decode them to fake images\n",
    "generated_images = generator.predict(random_latent_vectors)\n",
    "\n",
    "for i in range(generated_images.shape[0]):\n",
    "    img = image.array_to_img(generated_images[i] * 255., scale=False)\n",
    "    plt.figure()\n",
    "    plt.imshow(img)\n",
    "    \n",
    "plt.show()"
   ]
  },
  {
   "cell_type": "code",
   "execution_count": null,
   "metadata": {},
   "outputs": [],
   "source": []
  }
 ],
 "metadata": {
  "kernelspec": {
   "display_name": "Python 3",
   "language": "python",
   "name": "python3"
  },
  "language_info": {
   "codemirror_mode": {
    "name": "ipython",
    "version": 3
   },
   "file_extension": ".py",
   "mimetype": "text/x-python",
   "name": "python",
   "nbconvert_exporter": "python",
   "pygments_lexer": "ipython3",
   "version": "3.6.6"
  }
 },
 "nbformat": 4,
 "nbformat_minor": 2
}
