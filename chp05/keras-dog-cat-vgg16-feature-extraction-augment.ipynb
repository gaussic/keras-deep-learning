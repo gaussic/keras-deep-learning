{
 "cells": [
  {
   "cell_type": "code",
   "execution_count": 1,
   "metadata": {},
   "outputs": [
    {
     "name": "stderr",
     "output_type": "stream",
     "text": [
      "Using TensorFlow backend.\n"
     ]
    }
   ],
   "source": [
    "from keras.applications import VGG16\n",
    "\n",
    "conv_base = VGG16(weights='imagenet',\n",
    "                  include_top=False,\n",
    "                  input_shape=(150, 150, 3))"
   ]
  },
  {
   "cell_type": "code",
   "execution_count": 2,
   "metadata": {},
   "outputs": [],
   "source": [
    "from keras import models\n",
    "from keras import layers"
   ]
  },
  {
   "cell_type": "code",
   "execution_count": 3,
   "metadata": {},
   "outputs": [
    {
     "name": "stdout",
     "output_type": "stream",
     "text": [
      "_________________________________________________________________\n",
      "Layer (type)                 Output Shape              Param #   \n",
      "=================================================================\n",
      "vgg16 (Model)                (None, 4, 4, 512)         14714688  \n",
      "_________________________________________________________________\n",
      "flatten_1 (Flatten)          (None, 8192)              0         \n",
      "_________________________________________________________________\n",
      "dense_1 (Dense)              (None, 256)               2097408   \n",
      "_________________________________________________________________\n",
      "dense_2 (Dense)              (None, 1)                 257       \n",
      "=================================================================\n",
      "Total params: 16,812,353\n",
      "Trainable params: 16,812,353\n",
      "Non-trainable params: 0\n",
      "_________________________________________________________________\n"
     ]
    }
   ],
   "source": [
    "model = models.Sequential()\n",
    "model.add(conv_base)\n",
    "model.add(layers.Flatten())\n",
    "model.add(layers.Dense(256, activation='relu'))\n",
    "model.add(layers.Dense(1, activation='sigmoid'))\n",
    "\n",
    "model.summary()"
   ]
  },
  {
   "cell_type": "code",
   "execution_count": 4,
   "metadata": {},
   "outputs": [
    {
     "name": "stdout",
     "output_type": "stream",
     "text": [
      "This is the number of trainable weights before freezing the conv base: 30\n"
     ]
    }
   ],
   "source": [
    "print('This is the number of trainable weights before freezing the conv base:',\n",
    "      len(model.trainable_weights))"
   ]
  },
  {
   "cell_type": "code",
   "execution_count": 5,
   "metadata": {},
   "outputs": [],
   "source": [
    "conv_base.trainable = False"
   ]
  },
  {
   "cell_type": "code",
   "execution_count": 6,
   "metadata": {},
   "outputs": [
    {
     "name": "stdout",
     "output_type": "stream",
     "text": [
      "This is the number of trainable weights after freezing the conv base: 4\n"
     ]
    }
   ],
   "source": [
    "print('This is the number of trainable weights after freezing the conv base:',\n",
    "      len(model.trainable_weights))"
   ]
  },
  {
   "cell_type": "code",
   "execution_count": 9,
   "metadata": {},
   "outputs": [],
   "source": [
    "from keras.preprocessing.image import ImageDataGenerator\n",
    "from keras import optimizers\n",
    "import os"
   ]
  },
  {
   "cell_type": "code",
   "execution_count": 10,
   "metadata": {},
   "outputs": [],
   "source": [
    "base_dir = \"data/cats_and_dogs_small\"\n",
    "train_dir = os.path.join(base_dir, 'train')\n",
    "validation_dir = os.path.join(base_dir, 'validation')\n",
    "test_dir = os.path.join(base_dir, 'test')"
   ]
  },
  {
   "cell_type": "code",
   "execution_count": 11,
   "metadata": {},
   "outputs": [
    {
     "name": "stdout",
     "output_type": "stream",
     "text": [
      "Found 2000 images belonging to 2 classes.\n",
      "Found 1000 images belonging to 2 classes.\n"
     ]
    }
   ],
   "source": [
    "train_datagen = ImageDataGenerator(\n",
    "    rescale=1./255, \n",
    "    rotation_range=40, \n",
    "    width_shift_range=0.2, \n",
    "    height_shift_range=0.2, \n",
    "    shear_range=0.2, \n",
    "    zoom_range=0.2, \n",
    "    horizontal_flip=True, \n",
    "    fill_mode='nearest')\n",
    "\n",
    "test_datagen = ImageDataGenerator(rescale=1./255)\n",
    "\n",
    "train_generator = train_datagen.flow_from_directory(\n",
    "    train_dir,\n",
    "    target_size=(150, 150), \n",
    "    batch_size=20, \n",
    "    class_mode='binary')\n",
    "\n",
    "validation_generator = train_datagen.flow_from_directory(\n",
    "    validation_dir, \n",
    "    target_size=(150, 150),\n",
    "    batch_size=20, \n",
    "    class_mode='binary')\n",
    "\n",
    "model.compile(loss='binary_crossentropy',\n",
    "              optimizer=optimizers.RMSprop(lr=2e-5),\n",
    "              metrics=['acc'])"
   ]
  },
  {
   "cell_type": "code",
   "execution_count": 12,
   "metadata": {},
   "outputs": [
    {
     "name": "stdout",
     "output_type": "stream",
     "text": [
      "Epoch 1/30\n",
      "100/100 [==============================] - 20s 200ms/step - loss: 0.5977 - acc: 0.6725 - val_loss: 0.5309 - val_acc: 0.7440\n",
      "Epoch 2/30\n",
      "100/100 [==============================] - 18s 177ms/step - loss: 0.4796 - acc: 0.7865 - val_loss: 0.4541 - val_acc: 0.7940\n",
      "Epoch 3/30\n",
      "100/100 [==============================] - 18s 177ms/step - loss: 0.4314 - acc: 0.8125 - val_loss: 0.4225 - val_acc: 0.8170\n",
      "Epoch 4/30\n",
      "100/100 [==============================] - 19s 193ms/step - loss: 0.3996 - acc: 0.8240 - val_loss: 0.3890 - val_acc: 0.8350\n",
      "Epoch 5/30\n",
      "100/100 [==============================] - 18s 176ms/step - loss: 0.3821 - acc: 0.8305 - val_loss: 0.3881 - val_acc: 0.8250\n",
      "Epoch 6/30\n",
      "100/100 [==============================] - 18s 179ms/step - loss: 0.3764 - acc: 0.8220 - val_loss: 0.3731 - val_acc: 0.8350\n",
      "Epoch 7/30\n",
      "100/100 [==============================] - 18s 180ms/step - loss: 0.3624 - acc: 0.8450 - val_loss: 0.3759 - val_acc: 0.8370\n",
      "Epoch 8/30\n",
      "100/100 [==============================] - 18s 184ms/step - loss: 0.3425 - acc: 0.8470 - val_loss: 0.3620 - val_acc: 0.8410\n",
      "Epoch 9/30\n",
      "100/100 [==============================] - 18s 178ms/step - loss: 0.3490 - acc: 0.8455 - val_loss: 0.3460 - val_acc: 0.8460\n",
      "Epoch 10/30\n",
      "100/100 [==============================] - 18s 177ms/step - loss: 0.3432 - acc: 0.8490 - val_loss: 0.3391 - val_acc: 0.8560\n",
      "Epoch 11/30\n",
      "100/100 [==============================] - 18s 177ms/step - loss: 0.3322 - acc: 0.8545 - val_loss: 0.3380 - val_acc: 0.8510\n",
      "Epoch 12/30\n",
      "100/100 [==============================] - 18s 175ms/step - loss: 0.3194 - acc: 0.8645 - val_loss: 0.3684 - val_acc: 0.8290\n",
      "Epoch 13/30\n",
      "100/100 [==============================] - 18s 175ms/step - loss: 0.3188 - acc: 0.8610 - val_loss: 0.3525 - val_acc: 0.8390\n",
      "Epoch 14/30\n",
      "100/100 [==============================] - 18s 176ms/step - loss: 0.3147 - acc: 0.8575 - val_loss: 0.3480 - val_acc: 0.8460\n",
      "Epoch 15/30\n",
      "100/100 [==============================] - 18s 175ms/step - loss: 0.3298 - acc: 0.8495 - val_loss: 0.3319 - val_acc: 0.8610\n",
      "Epoch 16/30\n",
      "100/100 [==============================] - 18s 176ms/step - loss: 0.3165 - acc: 0.8630 - val_loss: 0.3240 - val_acc: 0.8620\n",
      "Epoch 17/30\n",
      "100/100 [==============================] - 18s 175ms/step - loss: 0.3091 - acc: 0.8640 - val_loss: 0.3288 - val_acc: 0.8620\n",
      "Epoch 18/30\n",
      "100/100 [==============================] - 18s 176ms/step - loss: 0.3091 - acc: 0.8620 - val_loss: 0.3192 - val_acc: 0.8560\n",
      "Epoch 19/30\n",
      "100/100 [==============================] - 18s 176ms/step - loss: 0.3040 - acc: 0.8645 - val_loss: 0.3256 - val_acc: 0.8630\n",
      "Epoch 20/30\n",
      "100/100 [==============================] - 18s 176ms/step - loss: 0.2984 - acc: 0.8670 - val_loss: 0.3450 - val_acc: 0.8390\n",
      "Epoch 21/30\n",
      "100/100 [==============================] - 18s 177ms/step - loss: 0.3005 - acc: 0.8700 - val_loss: 0.3292 - val_acc: 0.8510\n",
      "Epoch 22/30\n",
      "100/100 [==============================] - 18s 176ms/step - loss: 0.2955 - acc: 0.8700 - val_loss: 0.3098 - val_acc: 0.8680\n",
      "Epoch 23/30\n",
      "100/100 [==============================] - 18s 176ms/step - loss: 0.2963 - acc: 0.8765 - val_loss: 0.3299 - val_acc: 0.8600\n",
      "Epoch 24/30\n",
      "100/100 [==============================] - 18s 177ms/step - loss: 0.2973 - acc: 0.8685 - val_loss: 0.3149 - val_acc: 0.8640\n",
      "Epoch 25/30\n",
      "100/100 [==============================] - 18s 176ms/step - loss: 0.2958 - acc: 0.8710 - val_loss: 0.3193 - val_acc: 0.8570\n",
      "Epoch 26/30\n",
      "100/100 [==============================] - 18s 175ms/step - loss: 0.2842 - acc: 0.8790 - val_loss: 0.3420 - val_acc: 0.8390\n",
      "Epoch 27/30\n",
      "100/100 [==============================] - 18s 177ms/step - loss: 0.2899 - acc: 0.8770 - val_loss: 0.3070 - val_acc: 0.8670\n",
      "Epoch 28/30\n",
      "100/100 [==============================] - 18s 178ms/step - loss: 0.2859 - acc: 0.8755 - val_loss: 0.3147 - val_acc: 0.8630\n",
      "Epoch 29/30\n",
      "100/100 [==============================] - 18s 179ms/step - loss: 0.2941 - acc: 0.8720 - val_loss: 0.3057 - val_acc: 0.8690\n",
      "Epoch 30/30\n",
      "100/100 [==============================] - 18s 181ms/step - loss: 0.2863 - acc: 0.8740 - val_loss: 0.3283 - val_acc: 0.8600\n"
     ]
    }
   ],
   "source": [
    "history = model.fit_generator(\n",
    "    train_generator,\n",
    "    steps_per_epoch=100,\n",
    "    epochs=30,\n",
    "    validation_data=validation_generator,\n",
    "    validation_steps=50)"
   ]
  },
  {
   "cell_type": "code",
   "execution_count": 13,
   "metadata": {},
   "outputs": [],
   "source": [
    "import matplotlib.pyplot as plt\n",
    "%matplotlib inline"
   ]
  },
  {
   "cell_type": "code",
   "execution_count": 14,
   "metadata": {},
   "outputs": [
    {
     "data": {
      "image/png": "[encoded data removed]",
      "text/plain": [
       "<Figure size 432x288 with 1 Axes>"
      ]
     },
     "metadata": {
      "needs_background": "light"
     },
     "output_type": "display_data"
    },
    {
     "data": {
      "image/png": "[encoded data removed]",
      "text/plain": [
       "<Figure size 432x288 with 1 Axes>"
      ]
     },
     "metadata": {
      "needs_background": "light"
     },
     "output_type": "display_data"
    }
   ],
   "source": [
    "acc = history.history['acc']\n",
    "val_acc = history.history['val_acc']\n",
    "loss = history.history['loss']\n",
    "val_loss = history.history['val_loss']\n",
    "\n",
    "epochs = range(1, len(acc) + 1)\n",
    "\n",
    "plt.plot(epochs, acc, 'bo', label='Training acc')\n",
    "plt.plot(epochs, val_acc, 'b', label='Validation acc')\n",
    "plt.title('Training and validation accuracy')\n",
    "plt.legend()\n",
    "\n",
    "plt.figure()\n",
    "\n",
    "plt.plot(epochs, loss, 'bo', label='Training loss')\n",
    "plt.plot(epochs, val_loss, 'b', label='Validation loss')\n",
    "plt.title('Training and validation loss')\n",
    "plt.legend()\n",
    "\n",
    "plt.show()"
   ]
  },
  {
   "cell_type": "code",
   "execution_count": null,
   "metadata": {},
   "outputs": [],
   "source": []
  },
  {
   "cell_type": "code",
   "execution_count": null,
   "metadata": {},
   "outputs": [],
   "source": []
  },
  {
   "cell_type": "code",
   "execution_count": null,
   "metadata": {},
   "outputs": [],
   "source": []
  }
 ],
 "metadata": {
  "kernelspec": {
   "display_name": "Python 3",
   "language": "python",
   "name": "python3"
  },
  "language_info": {
   "codemirror_mode": {
    "name": "ipython",
    "version": 3
   },
   "file_extension": ".py",
   "mimetype": "text/x-python",
   "name": "python",
   "nbconvert_exporter": "python",
   "pygments_lexer": "ipython3",
   "version": "3.6.6"
  }
 },
 "nbformat": 4,
 "nbformat_minor": 2
}
